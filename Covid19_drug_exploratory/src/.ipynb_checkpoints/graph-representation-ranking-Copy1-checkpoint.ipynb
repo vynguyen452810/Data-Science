{
 "cells": [
  {
   "cell_type": "markdown",
   "metadata": {},
   "source": [
    "# SARS-CoV-2 Knowledge Graph "
   ]
  },
  {
   "cell_type": "markdown",
   "metadata": {},
   "source": [
    "Load packages"
   ]
  },
  {
   "cell_type": "code",
   "execution_count": 523,
   "metadata": {},
   "outputs": [],
   "source": [
    "import numpy as np\n",
    "import pandas as pd\n",
    "import time\n",
    "import re\n",
    "import math\n",
    "import random\n",
    "import pickle\n",
    "import seaborn as sns\n",
    "\n",
    "import lazypredict\n",
    "from lazypredict.Supervised import LazyRegressor\n",
    "\n",
    "from sklearn.model_selection import train_test_split\n",
    "from sklearn import metrics \n",
    "\n",
    "import torch\n",
    "import torch.nn as nn\n",
    "import torch.nn.functional as F\n",
    "from torch.autograd import Variable\n",
    "\n",
    "from torch_geometric.data import Data, DataLoader\n",
    "from torch_geometric.utils import add_remaining_self_loops, negative_sampling\n",
    "from torch_geometric.nn import VGAE, GCNConv\n",
    "from torch_geometric.utils import negative_sampling\n",
    "from torch_geometric.nn import SAGEConv\n",
    "from sklearn.preprocessing import MinMaxScaler"
   ]
  },
  {
   "cell_type": "code",
   "execution_count": 423,
   "metadata": {},
   "outputs": [],
   "source": [
    "data_path='data/'\n",
    "exp_id='v0'\n",
    "device_id='cpu' #'cpu' if CPU, device number if GPU\n",
    "embedding_size=128\n",
    "topk=300"
   ]
  },
  {
   "cell_type": "markdown",
   "metadata": {},
   "source": [
    "Load preprocessed files"
   ]
  },
  {
   "cell_type": "code",
   "execution_count": 424,
   "metadata": {},
   "outputs": [],
   "source": [
    "le=pickle.load(open(data_path+'LabelEncoder_'+exp_id+'.pkl', 'rb'))\n",
    "edge_index=pickle.load(open(data_path+'edge_index_'+exp_id+'.pkl','rb'))\n",
    "node_feature_np=pickle.load(open(data_path+'node_feature_'+exp_id+'.pkl','rb'))"
   ]
  },
  {
   "cell_type": "code",
   "execution_count": 425,
   "metadata": {},
   "outputs": [
    {
     "name": "stdout",
     "output_type": "stream",
     "text": [
      "input_ft:  400\n"
     ]
    }
   ],
   "source": [
    "# For tensor representing node\n",
    "node_feature=torch.tensor(node_feature_np, dtype=torch.float)\n",
    "input_ft = node_feature.size(1)\n",
    "print(\"input_ft: \", input_ft)"
   ]
  },
  {
   "cell_type": "code",
   "execution_count": 426,
   "metadata": {},
   "outputs": [],
   "source": [
    "# Normalized node_features - intend to see if this can help model perform better but not :( \n",
    "# scaler = MinMaxScaler()\n",
    "# node_feature = scaler.fit_transform(node_feature)"
   ]
  },
  {
   "cell_type": "code",
   "execution_count": 427,
   "metadata": {},
   "outputs": [],
   "source": [
    "edge=torch.tensor(edge_index[['node1', 'node2']].values, dtype=torch.long)"
   ]
  },
  {
   "cell_type": "code",
   "execution_count": 428,
   "metadata": {},
   "outputs": [],
   "source": [
    "# edge_attr_dict maps edge type to the unique numeric identifier\n",
    "edge_attr_dict={'gene-drug':0,'gene-gene':1,'bait-gene':2, 'phenotype-gene':3, 'phenotype-drug':4}\n",
    "edge_index['type']=edge_index['type'].apply(lambda x: edge_attr_dict[x])"
   ]
  },
  {
   "cell_type": "code",
   "execution_count": 429,
   "metadata": {},
   "outputs": [
    {
     "data": {
      "text/plain": [
       "type\n",
       "1    14242\n",
       "4      410\n",
       "3      325\n",
       "2      281\n",
       "0      189\n",
       "Name: count, dtype: int64"
      ]
     },
     "execution_count": 429,
     "metadata": {},
     "output_type": "execute_result"
    }
   ],
   "source": [
    "edge_index['type'].value_counts()"
   ]
  },
  {
   "cell_type": "code",
   "execution_count": 430,
   "metadata": {},
   "outputs": [],
   "source": [
    "edge_attr=torch.tensor(edge_index['type'].values,dtype=torch.long)"
   ]
  },
  {
   "cell_type": "code",
   "execution_count": 431,
   "metadata": {},
   "outputs": [],
   "source": [
    "# Preparing a Data object for a graph, including node features, edge information (transposed and contiguous), and edge attributes\n",
    "data = Data(x=node_feature,\n",
    "            edge_index=edge.t().contiguous(),\n",
    "            edge_attr=edge_attr\n",
    "           )"
   ]
  },
  {
   "cell_type": "markdown",
   "metadata": {},
   "source": [
    "## Batch"
   ]
  },
  {
   "cell_type": "code",
   "execution_count": 432,
   "metadata": {},
   "outputs": [],
   "source": [
    "def train_test_split_edges(data, val_ratio=0.05, test_ratio=0.1):\n",
    "    \"\"\"Splits the edges of a `torch_geometric.data.Data` object\n",
    "            into positive and negative train/val/test edges, and adds attributes of\n",
    "        `train_pos_edge_index`, `train_neg_adj_mask`, `val_pos_edge_index`,\n",
    "        `val_neg_edge_index`, `test_pos_edge_index`, and `test_neg_edge_index`\n",
    "        to :attr:`data`.\n",
    "\n",
    "    Args:\n",
    "        data (Data): The data object.\n",
    "        val_ratio (float, optional): The ratio of positive validation\n",
    "            edges. (default: :obj:`0.05`)\n",
    "        test_ratio (float, optional): The ratio of positive test\n",
    "            edges. (default: :obj:`0.1`)\n",
    "\n",
    "    :rtype: :class:`torch_geometric.data.Data`\n",
    "    \"\"\"\n",
    "\n",
    "    assert 'batch' not in data  # No batch-mode.\n",
    "\n",
    "    num_nodes = data.num_nodes\n",
    "    row, col = data.edge_index\n",
    "    attr = data.edge_attr\n",
    "\n",
    "\n",
    "    n_v = int(math.floor(val_ratio * row.size(0)))\n",
    "    n_t = int(math.floor(test_ratio * row.size(0)))\n",
    "\n",
    "    # Positive edges.\n",
    "    perm = torch.randperm(row.size(0))\n",
    "    row, col = row[perm], col[perm]\n",
    "    attr=attr[perm]\n",
    "\n",
    "    r, c = row[:n_v], col[:n_v]\n",
    "    data.val_pos_edge_index = torch.stack([r, c], dim=0)\n",
    "    data.val_pos_edge_attr = attr[:n_v]\n",
    "    \n",
    "    r, c = row[n_v:n_v + n_t], col[n_v:n_v + n_t]\n",
    "    data.test_pos_edge_index = torch.stack([r, c], dim=0)\n",
    "    data.test_post_edge_attr = attr[n_v:n_v + n_t]\n",
    "\n",
    "    r, c = row[n_v + n_t:], col[n_v + n_t:]\n",
    "    data.train_pos_edge_index = torch.stack([r, c], dim=0)\n",
    "    data.train_pos_edge_attr = attr[n_v+n_t:]\n",
    "\n",
    "    # Negative edges.\n",
    "    neg_adj_mask = torch.ones(num_nodes, num_nodes, dtype=torch.uint8)\n",
    "    neg_adj_mask = neg_adj_mask.triu(diagonal=1).to(torch.bool)\n",
    "    neg_adj_mask[row, col] = 0\n",
    "\n",
    "    neg_row, neg_col = neg_adj_mask.nonzero().t()\n",
    "    perm = random.sample(range(neg_row.size(0)),\n",
    "                         min(n_v + n_t, neg_row.size(0)))\n",
    "    perm = torch.tensor(perm)\n",
    "    perm = perm.to(torch.long)\n",
    "    neg_row, neg_col = neg_row[perm], neg_col[perm]\n",
    "\n",
    "    neg_adj_mask[neg_row, neg_col] = 0\n",
    "    data.train_neg_adj_mask = neg_adj_mask\n",
    "\n",
    "    row, col = neg_row[:n_v], neg_col[:n_v]\n",
    "    data.val_neg_edge_index = torch.stack([row, col], dim=0)\n",
    "\n",
    "    row, col = neg_row[n_v:n_v + n_t], neg_col[n_v:n_v + n_t]\n",
    "    data.test_neg_edge_index = torch.stack([row, col], dim=0)\n",
    "\n",
    "    return data"
   ]
  },
  {
   "cell_type": "code",
   "execution_count": 433,
   "metadata": {},
   "outputs": [],
   "source": [
    "device=torch.device(device_id)"
   ]
  },
  {
   "cell_type": "code",
   "execution_count": 434,
   "metadata": {},
   "outputs": [],
   "source": [
    "data_split=train_test_split_edges(data)\n",
    "x,train_pos_edge_index,train_pos_edge_attr = data_split.x.to(device), data_split.train_pos_edge_index.to(device), data_split.train_pos_edge_attr.to(device)\n",
    "train_pos_edge_index, train_pos_edge_attr=add_remaining_self_loops(train_pos_edge_index,train_pos_edge_attr)\n",
    "x,train_pos_edge_index,train_pos_edge_attr = Variable(x),Variable(train_pos_edge_index),Variable(train_pos_edge_attr)"
   ]
  },
  {
   "cell_type": "markdown",
   "metadata": {},
   "source": [
    "### Learning models"
   ]
  },
  {
   "cell_type": "markdown",
   "metadata": {},
   "source": [
    "#### GCN model"
   ]
  },
  {
   "cell_type": "code",
   "execution_count": 435,
   "metadata": {},
   "outputs": [],
   "source": [
    "class Encoder_GCN(nn.Module):\n",
    "    def __init__(self, in_channels, out_channels, isClassificationTask=False):\n",
    "        super(Encoder_GCN, self).__init__()\n",
    "        self.isClassificationTask=isClassificationTask\n",
    "        self._gene_drug=  GCNConv(in_channels, 2*out_channels)\n",
    "        self._gene_gene = GCNConv(in_channels, 2*out_channels)\n",
    "        self._bait_gene = GCNConv(in_channels, 2*out_channels)\n",
    "        self._gene_phenotype = GCNConv(in_channels, 2*out_channels)\n",
    "        self._drug_phenotype = GCNConv(in_channels, 2*out_channels)\n",
    "\n",
    "        self.bn = nn.BatchNorm1d(5*2*out_channels)\n",
    "        #variational encoder\n",
    "        self._mu = GCNConv(5*2*out_channels, out_channels)\n",
    "        self._logvar = GCNConv(5*2*out_channels, out_channels)\n",
    "\n",
    "    def forward(self,x,edge_index,edge_attr):\n",
    "        \n",
    "        x = F.dropout(x, training=self.training)\n",
    "\n",
    "        # Extract subgraphs based on edge attributes\n",
    "        edge_indices = []\n",
    "        for attr_value in range(5):\n",
    "            indices = (edge_attr == attr_value).nonzero().reshape(1, -1)[0]\n",
    "            edge_indices.append(edge_index[:, indices])\n",
    "        \n",
    "        edge_index_gene_drug, edge_index_gene_gene, edge_index_bait_gene, edge_index_gene_phenotype, edge_index_drug_phenotype = edge_indices\n",
    "\n",
    "        # gcn -> relu -> dropout\n",
    "        x_gene_drug = F.dropout(F.relu(self._gene_drug(x, edge_index_gene_drug)), p=0.5, training=self.training)\n",
    "        x_gene_gene = F.dropout(F.relu(self._gene_gene(x, edge_index_gene_gene)), p=0.5, training=self.training)\n",
    "        x_bait_gene = F.dropout(F.relu(self._bait_gene(x, edge_index_bait_gene)), p=0.1, training=self.training)\n",
    "        x_gene_phenotype = F.dropout(F.relu(self._gene_phenotype(x, edge_index_gene_phenotype)), training=self.training)\n",
    "        x_drug_phenotype = F.dropout(F.relu(self._drug_phenotype(x, edge_index_drug_phenotype)), training=self.training)\n",
    "\n",
    "        # concat\n",
    "        batch_input = torch.cat([x_gene_drug, x_gene_gene, x_bait_gene, x_gene_phenotype, x_drug_phenotype], dim=1)\n",
    "\n",
    "        # batch norm\n",
    "        x = self.bn(batch_input)\n",
    "\n",
    "        return self._mu(x, edge_index), self._logvar(x, edge_index)"
   ]
  },
  {
   "cell_type": "code",
   "execution_count": 436,
   "metadata": {},
   "outputs": [],
   "source": [
    "class Decoder_GCN(nn.Module):\n",
    "    def __init__(self, input_features, output_features):\n",
    "        super(Decoder_GCN, self).__init__()\n",
    "        self.fc1 = nn.Linear(input_features, hidden_size=256)\n",
    "        self.fc2 = nn.Linear(256, output_features)  # Fix the syntax here\n",
    "\n",
    "    def forward(self, x):\n",
    "        x = F.relu(self.fc1(x))\n",
    "        return self.fc2(x)"
   ]
  },
  {
   "cell_type": "code",
   "execution_count": 437,
   "metadata": {},
   "outputs": [
    {
     "name": "stdout",
     "output_type": "stream",
     "text": [
      "VGAE(\n",
      "  (encoder): Encoder_GCN(\n",
      "    (_gene_drug): GCNConv(400, 256)\n",
      "    (_gene_gene): GCNConv(400, 256)\n",
      "    (_bait_gene): GCNConv(400, 256)\n",
      "    (_gene_phenotype): GCNConv(400, 256)\n",
      "    (_drug_phenotype): GCNConv(400, 256)\n",
      "    (bn): BatchNorm1d(1280, eps=1e-05, momentum=0.1, affine=True, track_running_stats=True)\n",
      "    (_mu): GCNConv(1280, 128)\n",
      "    (_logvar): GCNConv(1280, 128)\n",
      "  )\n",
      "  (decoder): InnerProductDecoder()\n",
      ")\n"
     ]
    }
   ],
   "source": [
    "model = VGAE(Encoder_GCN(node_feature.shape[1], embedding_size)).to(device)\n",
    "optimizer=torch.optim.Adam(model.parameters(), lr=0.01)\n",
    "print(model)"
   ]
  },
  {
   "cell_type": "code",
   "execution_count": 438,
   "metadata": {},
   "outputs": [],
   "source": [
    "def train():\n",
    "    model.train()\n",
    "    optimizer.zero_grad()\n",
    "    z = model.encode(x, train_pos_edge_index, train_pos_edge_attr)\n",
    "    loss = model.recon_loss(z, train_pos_edge_index)\n",
    "    loss = loss + (1 / data.num_nodes) * model.kl_loss()\n",
    "    loss.backward()\n",
    "    optimizer.step()\n",
    "    print(loss.item())\n",
    "    \n",
    "def test(pos_edge_index, neg_edge_index):\n",
    "    model.eval()\n",
    "    with torch.no_grad():\n",
    "        z=model.encode(x, train_pos_edge_index,train_pos_edge_attr)\n",
    "    return model.test(z, pos_edge_index, neg_edge_index)"
   ]
  },
  {
   "cell_type": "code",
   "execution_count": 439,
   "metadata": {},
   "outputs": [
    {
     "data": {
      "text/plain": [
       "(0.8410683004912882, 0.7928436381950505)"
      ]
     },
     "execution_count": 439,
     "metadata": {},
     "output_type": "execute_result"
    }
   ],
   "source": [
    "#DRKG's accuracy for comparison\n",
    "model.test(x,data_split.test_pos_edge_index, data_split.test_neg_edge_index )"
   ]
  },
  {
   "cell_type": "code",
   "execution_count": 440,
   "metadata": {},
   "outputs": [
    {
     "name": "stdout",
     "output_type": "stream",
     "text": [
      "40.21448516845703\n",
      "Epoch: 001, AUC: 0.5630, AP: 0.5339\n",
      "6088.873046875\n",
      "Epoch: 002, AUC: 0.5693, AP: 0.5375\n",
      "1254.6224365234375\n",
      "Epoch: 003, AUC: 0.5764, AP: 0.5417\n",
      "3974.252197265625\n",
      "Epoch: 004, AUC: 0.5869, AP: 0.5479\n",
      "601.5332641601562\n",
      "Epoch: 005, AUC: 0.6132, AP: 0.5640\n",
      "1876.1971435546875\n",
      "Epoch: 006, AUC: 0.6231, AP: 0.5704\n",
      "1825.9749755859375\n",
      "Epoch: 007, AUC: 0.6327, AP: 0.5769\n",
      "1498.9605712890625\n",
      "Epoch: 008, AUC: 0.6415, AP: 0.5829\n",
      "1006.235107421875\n",
      "Epoch: 009, AUC: 0.6520, AP: 0.5903\n"
     ]
    }
   ],
   "source": [
    "for epoch in range(1, 10):\n",
    "    train()\n",
    "    auc, ap = test(data_split.test_pos_edge_index, data_split.test_neg_edge_index)\n",
    "    print('Epoch: {:03d}, AUC: {:.4f}, AP: {:.4f}'.format(epoch, auc, ap))"
   ]
  },
  {
   "cell_type": "code",
   "execution_count": 442,
   "metadata": {},
   "outputs": [],
   "source": [
    "# Customize Autoencoder that can take Encoder_GCN as input\n",
    "class CustomizedGCN_Autoencoder(nn.Module):\n",
    "    def __init__(self, encoder, input_features=400, hidden_size=256, output_features=400):\n",
    "        super(CustomizedGCN_Autoencoder, self).__init__()\n",
    "        self.encoder = encoder\n",
    "        self.decoder = DecoderGCN(hidden_size, input_features)\n",
    "\n",
    "    def reparameterize(self, mu, logvar):\n",
    "        std = torch.exp(0.5 * logvar)\n",
    "        eps = torch.randn_like(std)\n",
    "        return mu + eps * std\n",
    "    def forward(self, x, edge_index, edge_attr):\n",
    "        mu, logvar = self.encoder(x, edge_index, edge_attr)\n",
    "        z = self.reparameterize(mu, logvar)\n",
    "        decoded = self.decoder(z)\n",
    "        return decoded, mu, logvar\n"
   ]
  },
  {
   "cell_type": "code",
   "execution_count": 443,
   "metadata": {},
   "outputs": [
    {
     "name": "stdout",
     "output_type": "stream",
     "text": [
      "CustomizedGCN_Autoencoder(\n",
      "  (encoder): Encoder_GCN(\n",
      "    (_gene_drug): GCNConv(400, 256)\n",
      "    (_gene_gene): GCNConv(400, 256)\n",
      "    (_bait_gene): GCNConv(400, 256)\n",
      "    (_gene_phenotype): GCNConv(400, 256)\n",
      "    (_drug_phenotype): GCNConv(400, 256)\n",
      "    (bn): BatchNorm1d(1280, eps=1e-05, momentum=0.1, affine=True, track_running_stats=True)\n",
      "    (_mu): GCNConv(1280, 128)\n",
      "    (_logvar): GCNConv(1280, 128)\n",
      "  )\n",
      "  (decoder): DecoderGCN(\n",
      "    (fc): Linear(in_features=256, out_features=400, bias=True)\n",
      "  )\n",
      ")\n"
     ]
    }
   ],
   "source": [
    "other_model = CustomizedGCN_Autoencoder(Encoder_GCN(node_feature.shape[1], embedding_size)).to(device)\n",
    "optimizer=torch.optim.Adam(other_model.parameters(), lr=0.01)\n",
    "print(other_model)"
   ]
  },
  {
   "cell_type": "code",
   "execution_count": 444,
   "metadata": {},
   "outputs": [
    {
     "name": "stdout",
     "output_type": "stream",
     "text": [
      "624.13427734375\n",
      "Epoch: 001, AUC: 0.6675, AP: 0.6014\n",
      "1080.641845703125\n",
      "Epoch: 002, AUC: 0.6787, AP: 0.6097\n",
      "1114.604736328125\n",
      "Epoch: 003, AUC: 0.6936, AP: 0.6213\n",
      "1916.400146484375\n",
      "Epoch: 004, AUC: 0.7029, AP: 0.6287\n",
      "1115.345947265625\n",
      "Epoch: 005, AUC: 0.7162, AP: 0.6397\n",
      "1198.6707763671875\n",
      "Epoch: 006, AUC: 0.7251, AP: 0.6472\n",
      "1274.994140625\n",
      "Epoch: 007, AUC: 0.7315, AP: 0.6528\n",
      "3331.712646484375\n",
      "Epoch: 008, AUC: 0.7353, AP: 0.6558\n",
      "2098.846435546875\n",
      "Epoch: 009, AUC: 0.7392, AP: 0.6592\n"
     ]
    }
   ],
   "source": [
    "for epoch in range(1, 10):\n",
    "    train()\n",
    "    auc, ap = test(data_split.test_pos_edge_index, data_split.test_neg_edge_index)\n",
    "    print('Epoch: {:03d}, AUC: {:.4f}, AP: {:.4f}'.format(epoch, auc, ap))"
   ]
  },
  {
   "cell_type": "markdown",
   "metadata": {},
   "source": [
    "Node embedding"
   ]
  },
  {
   "cell_type": "code",
   "execution_count": 445,
   "metadata": {},
   "outputs": [],
   "source": [
    "model.eval()\n",
    "z=model.encode(x, data.edge_index.to(device), data.edge_attr.to(device))\n",
    "z_np = z.squeeze().detach().cpu().numpy()"
   ]
  },
  {
   "cell_type": "markdown",
   "metadata": {},
   "source": [
    "Save the new embedding "
   ]
  },
  {
   "cell_type": "code",
   "execution_count": 446,
   "metadata": {},
   "outputs": [],
   "source": [
    "pickle.dump(z_np, open(data_path+'node_embedding_'+exp_id+'.pkl', 'wb'))"
   ]
  },
  {
   "cell_type": "markdown",
   "metadata": {},
   "source": [
    "Save the torch model"
   ]
  },
  {
   "cell_type": "code",
   "execution_count": 447,
   "metadata": {},
   "outputs": [],
   "source": [
    "torch.save(model.state_dict(), data_path+'VAE_encoders_'+exp_id+'.pkl')"
   ]
  },
  {
   "cell_type": "code",
   "execution_count": 448,
   "metadata": {},
   "outputs": [
    {
     "data": {
      "text/plain": [
       "VGAE(\n",
       "  (encoder): Encoder_GCN(\n",
       "    (_gene_drug): GCNConv(400, 256)\n",
       "    (_gene_gene): GCNConv(400, 256)\n",
       "    (_bait_gene): GCNConv(400, 256)\n",
       "    (_gene_phenotype): GCNConv(400, 256)\n",
       "    (_drug_phenotype): GCNConv(400, 256)\n",
       "    (bn): BatchNorm1d(1280, eps=1e-05, momentum=0.1, affine=True, track_running_stats=True)\n",
       "    (_mu): GCNConv(1280, 128)\n",
       "    (_logvar): GCNConv(1280, 128)\n",
       "  )\n",
       "  (decoder): InnerProductDecoder()\n",
       ")"
      ]
     },
     "execution_count": 448,
     "metadata": {},
     "output_type": "execute_result"
    }
   ],
   "source": [
    "model.load_state_dict(torch.load(data_path+'VAE_encoders_'+exp_id+'.pkl'))\n",
    "model.eval()"
   ]
  },
  {
   "cell_type": "markdown",
   "metadata": {},
   "source": [
    "## Ranking models"
   ]
  },
  {
   "cell_type": "code",
   "execution_count": 449,
   "metadata": {},
   "outputs": [],
   "source": [
    "from sklearn.linear_model import LogisticRegression\n",
    "from sklearn.svm import SVC\n",
    "from sklearn.naive_bayes import GaussianNB\n",
    "from sklearn.preprocessing import StandardScaler\n",
    "from sklearn.pipeline import make_pipeline\n",
    "from sklearn.ensemble import GradientBoostingClassifier, RandomForestClassifier\n",
    "from sklearn.model_selection import train_test_split, cross_val_score\n",
    "from sklearn import metrics\n",
    "from sklearn.metrics import roc_auc_score, roc_curve, average_precision_score"
   ]
  },
  {
   "cell_type": "code",
   "execution_count": 450,
   "metadata": {},
   "outputs": [],
   "source": [
    "topk=300\n",
    "types=np.array([item.split('_')[0] for item in le.classes_ ])"
   ]
  },
  {
   "cell_type": "markdown",
   "metadata": {},
   "source": [
    "Load drugs under clinical trial"
   ]
  },
  {
   "cell_type": "code",
   "execution_count": 451,
   "metadata": {},
   "outputs": [],
   "source": [
    "#label\n",
    "trials=pd.read_excel(data_path+'literature-mining/All_trails_5_24.xlsx',header=1,index_col=0)\n",
    "trials_drug=set([drug.strip().upper() for lst in trials.loc[trials['study_category'].apply(lambda x: 'drug' in x.lower()),'intervention'].apply(lambda x: re.split(r'[+|/|,]',x.replace(' vs. ', '/').replace(' vs ', '/').replace(' or ', '/').replace(' with and without ', '/').replace(' /wo ', '/').replace(' /w ', '/').replace(' and ', '/').replace(' - ', '/').replace(' (', '/').replace(') ', '/'))).values for drug in lst])\n",
    "drug_labels=[1 if drug.split('_')[1] in trials_drug else 0 for drug in le.classes_[types=='drug'] ]\n"
   ]
  },
  {
   "cell_type": "markdown",
   "metadata": {},
   "source": [
    "#### BPR (Bayesian Personalized Ranking) loss NN"
   ]
  },
  {
   "cell_type": "code",
   "execution_count": 484,
   "metadata": {},
   "outputs": [],
   "source": [
    "seed=70\n",
    "indices = np.arange(len(drug_labels))\n",
    "X_train, X_test, y_train, y_test,indices_train,indices_test=train_test_split(z_np[types=='drug'],drug_labels,indices, test_size=0.5,random_state=seed,)\n"
   ]
  },
  {
   "cell_type": "code",
   "execution_count": 485,
   "metadata": {},
   "outputs": [],
   "source": [
    "#Variable wrapping for torch.tensor\n",
    "_X_train, _y_train=Variable(torch.tensor(X_train,dtype=torch.float).to(device)), Variable(torch.tensor(y_train,dtype=torch.float).to(device))\n",
    "_X_test, _y_test=Variable(torch.tensor(X_test,dtype=torch.float).to(device)), Variable(torch.tensor(y_test,dtype=torch.float).to(device))"
   ]
  },
  {
   "cell_type": "code",
   "execution_count": 489,
   "metadata": {},
   "outputs": [],
   "source": [
    "class Classifier(nn.Module):\n",
    "    def __init__(self):\n",
    "        super(Classifier, self).__init__() \n",
    "        self.fc1=nn.Linear(128,128)\n",
    "        self.fc2=nn.Linear(128,1)\n",
    "        self.bn=nn.BatchNorm1d(128)\n",
    "    def forward(self, x):\n",
    "        residual = x\n",
    "        out = F.dropout(F.relu(self.fc1(x)))\n",
    "        out = self.bn(out)\n",
    "        out += residual\n",
    "        return self.fc2(x)        "
   ]
  },
  {
   "cell_type": "markdown",
   "metadata": {},
   "source": [
    "BPR Loss Function"
   ]
  },
  {
   "cell_type": "code",
   "execution_count": 490,
   "metadata": {},
   "outputs": [],
   "source": [
    "from torch.utils.data import BatchSampler, WeightedRandomSampler\n",
    "class BPRLoss(nn.Module):\n",
    "    def __init__(self, num_neg_samples):\n",
    "        super(BPRLoss, self).__init__()\n",
    "        self.num_neg_samples=num_neg_samples\n",
    "    \n",
    "    def forward(self, output, label):\n",
    "        positive_output=output[label==1]\n",
    "        negative_output=output[label!=1]\n",
    "\n",
    "        log_prob = F.logsigmoid(positive_output.view(-1,1) - negative_output).mean()\n",
    "\n",
    "        return -log_prob"
   ]
  },
  {
   "cell_type": "code",
   "execution_count": 491,
   "metadata": {},
   "outputs": [],
   "source": [
    "classifier=Classifier().to(device)\n",
    "optimizer=torch.optim.Adam(classifier.parameters())\n",
    "criterion=BPRLoss(num_neg_samples=15)"
   ]
  },
  {
   "cell_type": "code",
   "execution_count": 496,
   "metadata": {},
   "outputs": [
    {
     "name": "stdout",
     "output_type": "stream",
     "text": [
      "training loss 1.8826367855072021\n",
      "test loss 1.4557600021362305\n",
      "training loss 1.1051276922225952\n",
      "test loss 0.722739577293396\n",
      "training loss 0.5389247536659241\n",
      "test loss 0.5553315877914429\n",
      "training loss 0.322921484708786\n",
      "test loss 0.647010087966919\n",
      "training loss 0.30794012546539307\n",
      "test loss 0.7826145887374878\n",
      "training loss 0.3316894769668579\n",
      "test loss 0.9179639220237732\n",
      "training loss 0.3635371923446655\n",
      "test loss 1.042763352394104\n",
      "training loss 0.39623507857322693\n",
      "test loss 1.154388189315796\n",
      "training loss 0.4271945655345917\n",
      "test loss 1.2525629997253418\n",
      "training loss 0.4553665518760681\n",
      "test loss 1.3378303050994873\n",
      "training loss 0.480344295501709\n",
      "test loss 1.4110121726989746\n",
      "training loss 0.502024233341217\n",
      "test loss 1.4730021953582764\n",
      "training loss 0.5204542875289917\n",
      "test loss 1.5246789455413818\n",
      "training loss 0.535760760307312\n",
      "test loss 1.5668752193450928\n",
      "training loss 0.5481091141700745\n",
      "test loss 1.600363850593567\n",
      "training loss 0.5576820969581604\n",
      "test loss 1.6258561611175537\n",
      "training loss 0.5646682977676392\n",
      "test loss 1.644005537033081\n",
      "training loss 0.5692554116249084\n",
      "test loss 1.6554114818572998\n",
      "training loss 0.5716256499290466\n",
      "test loss 1.6606230735778809\n",
      "training loss 0.5719554424285889\n",
      "test loss 1.6601459980010986\n",
      "training loss 0.5704125761985779\n",
      "test loss 1.654444694519043\n",
      "training loss 0.5671576261520386\n",
      "test loss 1.6439507007598877\n",
      "training loss 0.5623433589935303\n",
      "test loss 1.6290600299835205\n",
      "training loss 0.5561144351959229\n",
      "test loss 1.6101434230804443\n",
      "training loss 0.5486090183258057\n",
      "test loss 1.5875455141067505\n",
      "training loss 0.5399585962295532\n",
      "test loss 1.561589002609253\n",
      "training loss 0.5302897095680237\n",
      "test loss 1.5325782299041748\n",
      "training loss 0.5197221636772156\n",
      "test loss 1.5007989406585693\n",
      "training loss 0.5083717703819275\n",
      "test loss 1.466524362564087\n",
      "training loss 0.49634990096092224\n",
      "test loss 1.4300155639648438\n"
     ]
    }
   ],
   "source": [
    "best_auprc=0\n",
    "for epoch in range(30):\n",
    "    classifier.train()\n",
    "    optimizer.zero_grad()\n",
    "    out = classifier(_X_train)\n",
    "    loss=criterion(out.squeeze(), _y_train)\n",
    "    loss.backward()\n",
    "    optimizer.step()   \n",
    "    print('training loss',loss.item())\n",
    "\n",
    "    classifier.eval()\n",
    "    print('test loss', criterion(classifier(_X_test).squeeze(), _y_test).item())\n",
    "    prob=torch.sigmoid(classifier(_X_test)).cpu().detach().numpy().squeeze()\n",
    "    auprc=metrics.average_precision_score(y_test,prob)\n",
    "    if auprc>best_auprc:\n",
    "        best_auproc=auprc\n",
    "        torch.save(classifier, data_path+'nn_clf-temp.pt')"
   ]
  },
  {
   "cell_type": "code",
   "execution_count": 458,
   "metadata": {},
   "outputs": [
    {
     "data": {
      "text/plain": [
       "<All keys matched successfully>"
      ]
     },
     "execution_count": 458,
     "metadata": {},
     "output_type": "execute_result"
    }
   ],
   "source": [
    "classifier.load_state_dict(torch.load(data_path+'nn_clf-temp.pt').state_dict())"
   ]
  },
  {
   "cell_type": "code",
   "execution_count": 497,
   "metadata": {},
   "outputs": [
    {
     "name": "stdout",
     "output_type": "stream",
     "text": [
      "AUROC 0.71875\n",
      "AUPRC 0.6875\n"
     ]
    }
   ],
   "source": [
    "#Compute AUC\n",
    "classifier.eval()\n",
    "\n",
    "prob=torch.sigmoid(classifier(_X_test)).cpu().detach().numpy().squeeze()\n",
    "print(\"AUROC\", metrics.roc_auc_score(y_test,prob))\n",
    "print(\"AUPRC\", metrics.average_precision_score(y_test,prob))"
   ]
  },
  {
   "cell_type": "markdown",
   "metadata": {},
   "source": [
    "#### Long Short-Term Memory (LSTM) - a type of RNN"
   ]
  },
  {
   "cell_type": "code",
   "execution_count": 498,
   "metadata": {},
   "outputs": [],
   "source": [
    "class LSTM(nn.Module):\n",
    "    def __init__(self, input_size=128, hidden_size=3, num_layers=3, output_size=1):\n",
    "        super(LSTM, self).__init__()\n",
    "        self.lstm = nn.LSTM(input_size, hidden_size, num_layers, batch_first=True)\n",
    "        self.fc = nn.Linear(hidden_size, output_size)\n",
    "        self.sigmoid = nn.Sigmoid()\n",
    "\n",
    "    def forward(self, x):\n",
    "        out, _ = self.lstm(x)\n",
    "#         print(\"LSTM Output Shape:\", out.shape)\n",
    "        out = self.sigmoid(self.fc(out))\n",
    "        return out\n"
   ]
  },
  {
   "cell_type": "code",
   "execution_count": 502,
   "metadata": {},
   "outputs": [
    {
     "name": "stdout",
     "output_type": "stream",
     "text": [
      "training loss 0.6936971545219421\n",
      "test loss 0.6934377551078796\n",
      "training loss 0.6936195492744446\n",
      "test loss 0.6935505867004395\n",
      "training loss 0.6935311555862427\n",
      "test loss 0.6937248706817627\n",
      "training loss 0.6934006214141846\n",
      "test loss 0.6939885020256042\n",
      "training loss 0.693455159664154\n",
      "test loss 0.6938806772232056\n",
      "training loss 0.6931058168411255\n",
      "test loss 0.6937887668609619\n",
      "training loss 0.6930246949195862\n",
      "test loss 0.6937915086746216\n",
      "training loss 0.6929672360420227\n",
      "test loss 0.6938053369522095\n",
      "training loss 0.6929235458374023\n",
      "test loss 0.693816602230072\n",
      "training loss 0.6928877830505371\n",
      "test loss 0.6938247680664062\n",
      "training loss 0.6928566098213196\n",
      "test loss 0.693830668926239\n",
      "training loss 0.6928281784057617\n",
      "test loss 0.6938341856002808\n",
      "training loss 0.692801296710968\n",
      "test loss 0.6938354969024658\n",
      "training loss 0.6927751898765564\n",
      "test loss 0.6938342452049255\n",
      "training loss 0.6927496194839478\n",
      "test loss 0.6938303112983704\n",
      "training loss 0.6927242279052734\n",
      "test loss 0.6938234567642212\n",
      "training loss 0.6926990151405334\n",
      "test loss 0.6938140392303467\n",
      "training loss 0.692673921585083\n",
      "test loss 0.6938022971153259\n",
      "training loss 0.6926488876342773\n",
      "test loss 0.6937885284423828\n",
      "training loss 0.6926238536834717\n",
      "test loss 0.6937732696533203\n",
      "training loss 0.6925987601280212\n",
      "test loss 0.6937572360038757\n",
      "training loss 0.6925735473632812\n",
      "test loss 0.693740963935852\n",
      "training loss 0.692548394203186\n",
      "test loss 0.6937247514724731\n",
      "training loss 0.6925231218338013\n",
      "test loss 0.6937093734741211\n",
      "training loss 0.6924977898597717\n",
      "test loss 0.6936950087547302\n",
      "training loss 0.6924723982810974\n",
      "test loss 0.6936818361282349\n",
      "training loss 0.692446768283844\n",
      "test loss 0.6936702728271484\n",
      "training loss 0.6924210786819458\n",
      "test loss 0.693660318851471\n",
      "training loss 0.6923952102661133\n",
      "test loss 0.6936518549919128\n",
      "training loss 0.6923691630363464\n",
      "test loss 0.6936452388763428\n"
     ]
    }
   ],
   "source": [
    "lstm=LSTM().to(device)\n",
    "optimizer=torch.optim.Adam(lstm.parameters())\n",
    "criterion=BPRLoss(num_neg_samples=15)\n",
    "\n",
    "best_auprc=0\n",
    "for epoch in range(30):\n",
    "    lstm.train()\n",
    "    optimizer.zero_grad()\n",
    "    out = lstm(_X_train)\n",
    "    loss=criterion(out.squeeze(), _y_train)\n",
    "    loss.backward()\n",
    "    optimizer.step()   \n",
    "    print('training loss',loss.item())\n",
    "\n",
    "    lstm.eval()\n",
    "    print('test loss', criterion(lstm(_X_test).squeeze(), _y_test).item())\n",
    "    prob=torch.sigmoid(lstm(_X_test)).cpu().detach().numpy().squeeze()\n",
    "    auprc=metrics.average_precision_score(y_test,prob)\n",
    "    if auprc>best_auprc:\n",
    "        best_auproc=auprc\n",
    "        torch.save(lstm, data_path+'nn_lstm-temp.pt')"
   ]
  },
  {
   "cell_type": "code",
   "execution_count": 503,
   "metadata": {},
   "outputs": [
    {
     "data": {
      "text/plain": [
       "<All keys matched successfully>"
      ]
     },
     "execution_count": 503,
     "metadata": {},
     "output_type": "execute_result"
    }
   ],
   "source": [
    "lstm.load_state_dict(torch.load(data_path+'nn_lstm-temp.pt').state_dict())"
   ]
  },
  {
   "cell_type": "code",
   "execution_count": 504,
   "metadata": {},
   "outputs": [
    {
     "name": "stdout",
     "output_type": "stream",
     "text": [
      "AUROC 0.3984375\n",
      "AUPRC 0.3912188474888283\n"
     ]
    }
   ],
   "source": [
    "#Compute AUC\n",
    "lstm.eval()\n",
    "\n",
    "prob=torch.sigmoid(lstm(_X_test)).cpu().detach().numpy().squeeze()\n",
    "print(\"AUROC\", metrics.roc_auc_score(y_test,prob))\n",
    "print(\"AUPRC\", metrics.average_precision_score(y_test,prob))"
   ]
  },
  {
   "cell_type": "markdown",
   "metadata": {},
   "source": [
    "#### multi-layer perceptron (MLP) "
   ]
  },
  {
   "cell_type": "code",
   "execution_count": 505,
   "metadata": {},
   "outputs": [],
   "source": [
    "class MLP(nn.Module):\n",
    "    def __init__(self, input_size=128, hidden_size=3, output_size=1):\n",
    "        super(MLP, self).__init__()\n",
    "        self.fc1 = nn.Linear(input_size, hidden_size)\n",
    "        self.fc2 = nn.Linear(hidden_size, hidden_size)\n",
    "        self.fc3 = nn.Linear(hidden_size, output_size)\n",
    "\n",
    "    def forward(self, x):\n",
    "        x = F.relu(self.fc1(x))\n",
    "        x = F.relu(self.fc2(x))\n",
    "        x = self.fc3(x)\n",
    "        return x"
   ]
  },
  {
   "cell_type": "code",
   "execution_count": 508,
   "metadata": {},
   "outputs": [
    {
     "name": "stdout",
     "output_type": "stream",
     "text": [
      "training loss 0.6931471824645996\n",
      "test loss 0.6931471824645996\n",
      "training loss 0.6931471824645996\n",
      "test loss 0.6931471824645996\n",
      "training loss 0.6931471824645996\n",
      "test loss 0.6931471824645996\n",
      "training loss 0.6931471824645996\n",
      "test loss 0.6931471824645996\n",
      "training loss 0.6931471824645996\n",
      "test loss 0.6931471824645996\n",
      "training loss 0.6931471824645996\n",
      "test loss 0.6931471824645996\n",
      "training loss 0.6931471824645996\n",
      "test loss 0.6931471824645996\n",
      "training loss 0.6931471824645996\n",
      "test loss 0.6931471824645996\n",
      "training loss 0.6931471824645996\n",
      "test loss 0.6931471824645996\n",
      "training loss 0.6931471824645996\n",
      "test loss 0.6931471824645996\n",
      "training loss 0.6931471824645996\n",
      "test loss 0.6931471824645996\n",
      "training loss 0.6931471824645996\n",
      "test loss 0.6931471824645996\n",
      "training loss 0.6931471824645996\n",
      "test loss 0.6931471824645996\n",
      "training loss 0.6931471824645996\n",
      "test loss 0.6931471824645996\n",
      "training loss 0.6931471824645996\n",
      "test loss 0.6931471824645996\n",
      "training loss 0.6931471824645996\n",
      "test loss 0.6931471824645996\n",
      "training loss 0.6931471824645996\n",
      "test loss 0.6931471824645996\n",
      "training loss 0.6931471824645996\n",
      "test loss 0.6931471824645996\n",
      "training loss 0.6931471824645996\n",
      "test loss 0.6931471824645996\n",
      "training loss 0.6931471824645996\n",
      "test loss 0.6931471824645996\n",
      "training loss 0.6931471824645996\n",
      "test loss 0.6931471824645996\n",
      "training loss 0.6931471824645996\n",
      "test loss 0.6931471824645996\n",
      "training loss 0.6931471824645996\n",
      "test loss 0.6931471824645996\n",
      "training loss 0.6931471824645996\n",
      "test loss 0.6931471824645996\n",
      "training loss 0.6931471824645996\n",
      "test loss 0.6931471824645996\n",
      "training loss 0.6931471824645996\n",
      "test loss 0.6931471824645996\n",
      "training loss 0.6931471824645996\n",
      "test loss 0.6931471824645996\n",
      "training loss 0.6931471824645996\n",
      "test loss 0.6931471824645996\n",
      "training loss 0.6931471824645996\n",
      "test loss 0.6931471824645996\n",
      "training loss 0.6931471824645996\n",
      "test loss 0.6931471824645996\n"
     ]
    }
   ],
   "source": [
    "mlp=MLP().to(device)\n",
    "optimizer=torch.optim.Adam(mlp.parameters())\n",
    "criterion=BPRLoss(num_neg_samples=15)\n",
    "\n",
    "best_auprc=0\n",
    "for epoch in range(30):\n",
    "    mlp.train()\n",
    "    optimizer.zero_grad()\n",
    "    out = mlp(_X_train)\n",
    "    loss=criterion(out.squeeze(), _y_train)\n",
    "    loss.backward()\n",
    "    optimizer.step()   \n",
    "    print('training loss',loss.item())\n",
    "\n",
    "    mlp.eval()\n",
    "    print('test loss', criterion(mlp(_X_test).squeeze(), _y_test).item())\n",
    "    prob=torch.sigmoid(mlp(_X_test)).cpu().detach().numpy().squeeze()\n",
    "    auprc=metrics.average_precision_score(y_test,prob)\n",
    "    if auprc>best_auprc:\n",
    "        best_auproc=auprc\n",
    "        torch.save(mlp, data_path+'nn_mlp-temp.pt')"
   ]
  },
  {
   "cell_type": "code",
   "execution_count": 509,
   "metadata": {},
   "outputs": [
    {
     "data": {
      "text/plain": [
       "<All keys matched successfully>"
      ]
     },
     "execution_count": 509,
     "metadata": {},
     "output_type": "execute_result"
    }
   ],
   "source": [
    "mlp.load_state_dict(torch.load(data_path+'nn_mlp-temp.pt').state_dict())"
   ]
  },
  {
   "cell_type": "code",
   "execution_count": 510,
   "metadata": {},
   "outputs": [
    {
     "name": "stdout",
     "output_type": "stream",
     "text": [
      "AUROC 0.5\n",
      "AUPRC 0.3333333333333333\n"
     ]
    }
   ],
   "source": [
    "#Compute AUC\n",
    "mlp.eval()\n",
    "\n",
    "prob=torch.sigmoid(mlp(_X_test)).cpu().detach().numpy().squeeze()\n",
    "print(\"AUROC\", metrics.roc_auc_score(y_test,prob))\n",
    "print(\"AUPRC\", metrics.average_precision_score(y_test,prob))"
   ]
  },
  {
   "cell_type": "markdown",
   "metadata": {},
   "source": [
    "#### Transformer-based model "
   ]
  },
  {
   "cell_type": "code",
   "execution_count": 511,
   "metadata": {},
   "outputs": [],
   "source": [
    "class Transformer(nn.Module):\n",
    "    def __init__(self, input_size=128, hidden_size=3, output_size=1, num_heads=2, num_layers=2):\n",
    "        super(Transformer, self).__init__()\n",
    "        self.transformer = nn.TransformerEncoder(\n",
    "            nn.TransformerEncoderLayer(d_model=input_size, nhead=num_heads),\n",
    "            num_layers=num_layers\n",
    "        )\n",
    "        self.fc = nn.Linear(input_size, output_size)\n",
    "\n",
    "    def forward(self, x):\n",
    "        out = self.transformer(x)\n",
    "        \n",
    "        # Reshape the output to 2D tensor before passing it through the fully connected layer\n",
    "        out = out.view(out.size(0), -1)\n",
    "        \n",
    "        out = self.fc(out)\n",
    "        return out\n"
   ]
  },
  {
   "cell_type": "code",
   "execution_count": 514,
   "metadata": {},
   "outputs": [
    {
     "name": "stdout",
     "output_type": "stream",
     "text": [
      "training loss 0.7479754686355591\n",
      "test loss 0.8170832395553589\n",
      "training loss 0.48492756485939026\n",
      "test loss 0.6121745705604553\n",
      "training loss 0.4543578326702118\n",
      "test loss 0.9319353103637695\n",
      "training loss 0.4584648907184601\n",
      "test loss 1.0562679767608643\n",
      "training loss 0.35827112197875977\n",
      "test loss 0.9292798042297363\n",
      "training loss 0.46262285113334656\n",
      "test loss 0.9196336269378662\n",
      "training loss 0.3653704524040222\n",
      "test loss 0.9365401268005371\n",
      "training loss 0.3380813002586365\n",
      "test loss 0.9760183095932007\n",
      "training loss 0.3303792476654053\n",
      "test loss 1.0328807830810547\n",
      "training loss 0.3164030909538269\n",
      "test loss 1.069547414779663\n",
      "training loss 0.35313934087753296\n",
      "test loss 1.1275098323822021\n",
      "training loss 0.29217708110809326\n",
      "test loss 1.220406413078308\n",
      "training loss 0.3349713087081909\n",
      "test loss 1.2913713455200195\n",
      "training loss 0.2809221148490906\n",
      "test loss 1.3560518026351929\n",
      "training loss 0.26594799757003784\n",
      "test loss 1.3407509326934814\n",
      "training loss 0.26182955503463745\n",
      "test loss 1.2598998546600342\n",
      "training loss 0.2224535346031189\n",
      "test loss 1.1217976808547974\n",
      "training loss 0.2526015341281891\n",
      "test loss 1.009831190109253\n",
      "training loss 0.21667911112308502\n",
      "test loss 0.9521341323852539\n",
      "training loss 0.19568844139575958\n",
      "test loss 0.9903566241264343\n",
      "training loss 0.14509670436382294\n",
      "test loss 1.1229443550109863\n",
      "training loss 0.19783732295036316\n",
      "test loss 1.2763408422470093\n",
      "training loss 0.1454644352197647\n",
      "test loss 1.360529899597168\n",
      "training loss 0.1997842788696289\n",
      "test loss 1.388547420501709\n",
      "training loss 0.3178011178970337\n",
      "test loss 1.4704962968826294\n",
      "training loss 0.23357431590557098\n",
      "test loss 1.449789047241211\n",
      "training loss 0.09581698477268219\n",
      "test loss 1.3394873142242432\n",
      "training loss 0.08449440449476242\n",
      "test loss 1.2244361639022827\n",
      "training loss 0.08110486716032028\n",
      "test loss 1.1604586839675903\n",
      "training loss 0.3316138982772827\n",
      "test loss 1.151597023010254\n"
     ]
    }
   ],
   "source": [
    "transformer=Transformer().to(device)\n",
    "optimizer=torch.optim.Adam(transformer.parameters())\n",
    "criterion=BPRLoss(num_neg_samples=15)\n",
    "\n",
    "best_auprc=0\n",
    "for epoch in range(30):\n",
    "    transformer.train()\n",
    "    optimizer.zero_grad()\n",
    "    out = transformer(_X_train)\n",
    "    loss=criterion(out.squeeze(), _y_train)\n",
    "    loss.backward()\n",
    "    optimizer.step()   \n",
    "    print('training loss',loss.item())\n",
    "\n",
    "    transformer.eval()\n",
    "    print('test loss', criterion(transformer(_X_test).squeeze(), _y_test).item())\n",
    "    prob=torch.sigmoid(transformer(_X_test)).cpu().detach().numpy().squeeze()\n",
    "    auprc=metrics.average_precision_score(y_test,prob)\n",
    "    if auprc>best_auprc:\n",
    "        best_auproc=auprc\n",
    "        torch.save(transformer, data_path+'nn_transformer-temp.pt')"
   ]
  },
  {
   "cell_type": "code",
   "execution_count": 515,
   "metadata": {},
   "outputs": [
    {
     "data": {
      "text/plain": [
       "<All keys matched successfully>"
      ]
     },
     "execution_count": 515,
     "metadata": {},
     "output_type": "execute_result"
    }
   ],
   "source": [
    "transformer.load_state_dict(torch.load(data_path+'nn_transformer-temp.pt').state_dict())"
   ]
  },
  {
   "cell_type": "code",
   "execution_count": 516,
   "metadata": {},
   "outputs": [
    {
     "name": "stdout",
     "output_type": "stream",
     "text": [
      "AUROC 0.5625\n",
      "AUPRC 0.3974176864801865\n"
     ]
    }
   ],
   "source": [
    "#Compute AUC\n",
    "transformer.eval()\n",
    "\n",
    "prob=torch.sigmoid(transformer(_X_test)).cpu().detach().numpy().squeeze()\n",
    "print(\"AUROC\", metrics.roc_auc_score(y_test,prob))\n",
    "print(\"AUPRC\", metrics.average_precision_score(y_test,prob))"
   ]
  },
  {
   "cell_type": "markdown",
   "metadata": {},
   "source": [
    "Sort the result form Classsifer model"
   ]
  },
  {
   "cell_type": "code",
   "execution_count": 518,
   "metadata": {},
   "outputs": [
    {
     "data": {
      "text/plain": [
       "array([15, 40, 29, 45, 19, 22, 33, 24, 17, 27,  6, 10,  7, 37, 41, 16,  8,\n",
       "       12, 25, 38, 18, 36, 39,  5, 42, 46, 34, 31, 26, 11, 14, 30, 28,  9,\n",
       "        3, 32, 35, 43, 13,  2, 23, 44,  1, 21, 20,  4,  0])"
      ]
     },
     "execution_count": 518,
     "metadata": {},
     "output_type": "execute_result"
    }
   ],
   "source": [
    "z_np[types=='drug']\n",
    "res_tensor = -classifier(torch.from_numpy(z_np[types=='drug']))\n",
    "sorted_picks = np.argsort(res_tensor.squeeze().detach().numpy())\n",
    "sorted_picks"
   ]
  },
  {
   "cell_type": "markdown",
   "metadata": {},
   "source": [
    "Save the high-ranked drugs into csv file"
   ]
  },
  {
   "cell_type": "code",
   "execution_count": 520,
   "metadata": {},
   "outputs": [],
   "source": [
    "topk_drugs=pd.DataFrame([(rank, drug.split('_')[1]) for rank,drug in enumerate(le.inverse_transform((types=='drug').nonzero()[0][sorted_picks])[:topk+1])], columns=['rank', 'drug'])\n",
    "topk_drugs['under_trials']=topk_drugs['drug'].isin(trials_drug).astype(int)\n",
    "topk_drugs['is_used_in_training']=topk_drugs['drug'].isin(np.array([drug.split('_')[1] for drug in le.classes_[types=='drug']])[indices_train]).astype(int)\n",
    "topk_drugs.to_csv('top300_drugs.csv')"
   ]
  },
  {
   "cell_type": "markdown",
   "metadata": {},
   "source": [
    "#### Baseline Models"
   ]
  },
  {
   "cell_type": "code",
   "execution_count": 529,
   "metadata": {},
   "outputs": [
    {
     "ename": "TypeError",
     "evalue": "LazyRegressor.fit() missing 2 required positional arguments: 'y_train' and 'y_test'",
     "output_type": "error",
     "traceback": [
      "\u001b[0;31m---------------------------------------------------------------------------\u001b[0m",
      "\u001b[0;31mTypeError\u001b[0m                                 Traceback (most recent call last)",
      "Cell \u001b[0;32mIn[529], line 2\u001b[0m\n\u001b[1;32m      1\u001b[0m lazy_regressor \u001b[38;5;241m=\u001b[39m LazyRegressor()\n\u001b[0;32m----> 2\u001b[0m lazy_regressor\u001b[38;5;241m.\u001b[39mfit(X_train, y_train)  \u001b[38;5;66;03m# Train on your training data\u001b[39;00m\n\u001b[1;32m      3\u001b[0m predictions \u001b[38;5;241m=\u001b[39m lazy_regressor\u001b[38;5;241m.\u001b[39mpredict(X_test)\n\u001b[1;32m      5\u001b[0m top_items_idx \u001b[38;5;241m=\u001b[39m np\u001b[38;5;241m.\u001b[39margsort(\u001b[38;5;241m-\u001b[39mpredictions\u001b[38;5;241m.\u001b[39msqueeze()\u001b[38;5;241m.\u001b[39mdetach()\u001b[38;5;241m.\u001b[39mcpu()\u001b[38;5;241m.\u001b[39mnumpy())\n",
      "\u001b[0;31mTypeError\u001b[0m: LazyRegressor.fit() missing 2 required positional arguments: 'y_train' and 'y_test'"
     ]
    }
   ],
   "source": [
    "# Defines and builds the lazyclassifier\n",
    "lg = LazyRegressor(verbose=0,ignore_warnings=True, custom_metric=None)\n",
    "models_train,predictions_train = lg.fit(X_train, X_train, y_train, y_train)\n",
    "models_test,predictions_test = lg.fit(X_train, X_test, y_train, y_test)"
   ]
  },
  {
   "cell_type": "code",
   "execution_count": 528,
   "metadata": {},
   "outputs": [
    {
     "ename": "TypeError",
     "evalue": "'LazyRegressor' object is not callable",
     "output_type": "error",
     "traceback": [
      "\u001b[0;31m---------------------------------------------------------------------------\u001b[0m",
      "\u001b[0;31mTypeError\u001b[0m                                 Traceback (most recent call last)",
      "Cell \u001b[0;32mIn[528], line 1\u001b[0m\n\u001b[0;32m----> 1\u001b[0m top_items_idx\u001b[38;5;241m=\u001b[39mnp\u001b[38;5;241m.\u001b[39margsort(\u001b[38;5;241m-\u001b[39mlg(torch\u001b[38;5;241m.\u001b[39mtensor(z_np[types\u001b[38;5;241m==\u001b[39m\u001b[38;5;124m'\u001b[39m\u001b[38;5;124mdrug\u001b[39m\u001b[38;5;124m'\u001b[39m],dtype\u001b[38;5;241m=\u001b[39mtorch\u001b[38;5;241m.\u001b[39mfloat)\u001b[38;5;241m.\u001b[39mto(device))\u001b[38;5;241m.\u001b[39msqueeze()\u001b[38;5;241m.\u001b[39mdetach()\u001b[38;5;241m.\u001b[39mcpu()\u001b[38;5;241m.\u001b[39mnumpy())\n",
      "\u001b[0;31mTypeError\u001b[0m: 'LazyRegressor' object is not callable"
     ]
    }
   ],
   "source": [
    "top_items_idx=np.argsort(-lg(torch.tensor(z_np[types=='drug'],dtype=torch.float).to(device)).squeeze().detach().cpu().numpy())"
   ]
  },
  {
   "cell_type": "code",
   "execution_count": 476,
   "metadata": {},
   "outputs": [
    {
     "data": {
      "text/html": [
       "<div>\n",
       "<style scoped>\n",
       "    .dataframe tbody tr th:only-of-type {\n",
       "        vertical-align: middle;\n",
       "    }\n",
       "\n",
       "    .dataframe tbody tr th {\n",
       "        vertical-align: top;\n",
       "    }\n",
       "\n",
       "    .dataframe thead th {\n",
       "        text-align: right;\n",
       "    }\n",
       "</style>\n",
       "<table border=\"1\" class=\"dataframe\">\n",
       "  <thead>\n",
       "    <tr style=\"text-align: right;\">\n",
       "      <th></th>\n",
       "      <th>Adjusted R-Squared</th>\n",
       "      <th>R-Squared</th>\n",
       "      <th>RMSE</th>\n",
       "      <th>Time Taken</th>\n",
       "    </tr>\n",
       "    <tr>\n",
       "      <th>Model</th>\n",
       "      <th></th>\n",
       "      <th></th>\n",
       "      <th></th>\n",
       "      <th></th>\n",
       "    </tr>\n",
       "  </thead>\n",
       "  <tbody>\n",
       "    <tr>\n",
       "      <th>Lars</th>\n",
       "      <td>25436129376666796875211631919045468716809191782...</td>\n",
       "      <td>-1225558960875763845190373865682291367035541545...</td>\n",
       "      <td>553001404667712201047385487441920.00</td>\n",
       "      <td>0.01</td>\n",
       "    </tr>\n",
       "    <tr>\n",
       "      <th>KernelRidge</th>\n",
       "      <td>1.26</td>\n",
       "      <td>-0.26</td>\n",
       "      <td>0.56</td>\n",
       "      <td>0.00</td>\n",
       "    </tr>\n",
       "    <tr>\n",
       "      <th>LassoLars</th>\n",
       "      <td>1.21</td>\n",
       "      <td>-0.00</td>\n",
       "      <td>0.50</td>\n",
       "      <td>0.00</td>\n",
       "    </tr>\n",
       "    <tr>\n",
       "      <th>Lasso</th>\n",
       "      <td>1.21</td>\n",
       "      <td>-0.00</td>\n",
       "      <td>0.50</td>\n",
       "      <td>0.00</td>\n",
       "    </tr>\n",
       "    <tr>\n",
       "      <th>ElasticNet</th>\n",
       "      <td>1.21</td>\n",
       "      <td>-0.00</td>\n",
       "      <td>0.50</td>\n",
       "      <td>0.00</td>\n",
       "    </tr>\n",
       "    <tr>\n",
       "      <th>HistGradientBoostingRegressor</th>\n",
       "      <td>1.21</td>\n",
       "      <td>0.00</td>\n",
       "      <td>0.50</td>\n",
       "      <td>0.22</td>\n",
       "    </tr>\n",
       "    <tr>\n",
       "      <th>LGBMRegressor</th>\n",
       "      <td>1.21</td>\n",
       "      <td>0.00</td>\n",
       "      <td>0.50</td>\n",
       "      <td>0.03</td>\n",
       "    </tr>\n",
       "    <tr>\n",
       "      <th>DummyRegressor</th>\n",
       "      <td>1.21</td>\n",
       "      <td>0.00</td>\n",
       "      <td>0.50</td>\n",
       "      <td>0.00</td>\n",
       "    </tr>\n",
       "    <tr>\n",
       "      <th>KNeighborsRegressor</th>\n",
       "      <td>1.15</td>\n",
       "      <td>0.27</td>\n",
       "      <td>0.43</td>\n",
       "      <td>0.01</td>\n",
       "    </tr>\n",
       "    <tr>\n",
       "      <th>NuSVR</th>\n",
       "      <td>1.15</td>\n",
       "      <td>0.30</td>\n",
       "      <td>0.42</td>\n",
       "      <td>0.00</td>\n",
       "    </tr>\n",
       "    <tr>\n",
       "      <th>BayesianRidge</th>\n",
       "      <td>1.13</td>\n",
       "      <td>0.36</td>\n",
       "      <td>0.40</td>\n",
       "      <td>0.01</td>\n",
       "    </tr>\n",
       "    <tr>\n",
       "      <th>LassoLarsCV</th>\n",
       "      <td>1.13</td>\n",
       "      <td>0.37</td>\n",
       "      <td>0.40</td>\n",
       "      <td>0.02</td>\n",
       "    </tr>\n",
       "    <tr>\n",
       "      <th>LassoCV</th>\n",
       "      <td>1.13</td>\n",
       "      <td>0.37</td>\n",
       "      <td>0.40</td>\n",
       "      <td>0.61</td>\n",
       "    </tr>\n",
       "    <tr>\n",
       "      <th>ElasticNetCV</th>\n",
       "      <td>1.13</td>\n",
       "      <td>0.39</td>\n",
       "      <td>0.39</td>\n",
       "      <td>0.68</td>\n",
       "    </tr>\n",
       "    <tr>\n",
       "      <th>PoissonRegressor</th>\n",
       "      <td>1.12</td>\n",
       "      <td>0.44</td>\n",
       "      <td>0.38</td>\n",
       "      <td>0.09</td>\n",
       "    </tr>\n",
       "    <tr>\n",
       "      <th>OrthogonalMatchingPursuitCV</th>\n",
       "      <td>1.11</td>\n",
       "      <td>0.46</td>\n",
       "      <td>0.37</td>\n",
       "      <td>0.01</td>\n",
       "    </tr>\n",
       "    <tr>\n",
       "      <th>SVR</th>\n",
       "      <td>1.11</td>\n",
       "      <td>0.49</td>\n",
       "      <td>0.36</td>\n",
       "      <td>0.01</td>\n",
       "    </tr>\n",
       "    <tr>\n",
       "      <th>TweedieRegressor</th>\n",
       "      <td>1.10</td>\n",
       "      <td>0.53</td>\n",
       "      <td>0.34</td>\n",
       "      <td>0.02</td>\n",
       "    </tr>\n",
       "    <tr>\n",
       "      <th>SGDRegressor</th>\n",
       "      <td>1.09</td>\n",
       "      <td>0.57</td>\n",
       "      <td>0.33</td>\n",
       "      <td>0.01</td>\n",
       "    </tr>\n",
       "    <tr>\n",
       "      <th>RidgeCV</th>\n",
       "      <td>1.08</td>\n",
       "      <td>0.61</td>\n",
       "      <td>0.31</td>\n",
       "      <td>0.01</td>\n",
       "    </tr>\n",
       "    <tr>\n",
       "      <th>PassiveAggressiveRegressor</th>\n",
       "      <td>1.06</td>\n",
       "      <td>0.72</td>\n",
       "      <td>0.27</td>\n",
       "      <td>0.00</td>\n",
       "    </tr>\n",
       "    <tr>\n",
       "      <th>BaggingRegressor</th>\n",
       "      <td>1.05</td>\n",
       "      <td>0.74</td>\n",
       "      <td>0.26</td>\n",
       "      <td>0.02</td>\n",
       "    </tr>\n",
       "    <tr>\n",
       "      <th>RandomForestRegressor</th>\n",
       "      <td>1.04</td>\n",
       "      <td>0.81</td>\n",
       "      <td>0.22</td>\n",
       "      <td>0.10</td>\n",
       "    </tr>\n",
       "    <tr>\n",
       "      <th>Ridge</th>\n",
       "      <td>1.04</td>\n",
       "      <td>0.83</td>\n",
       "      <td>0.21</td>\n",
       "      <td>0.00</td>\n",
       "    </tr>\n",
       "    <tr>\n",
       "      <th>OrthogonalMatchingPursuit</th>\n",
       "      <td>1.03</td>\n",
       "      <td>0.85</td>\n",
       "      <td>0.19</td>\n",
       "      <td>0.01</td>\n",
       "    </tr>\n",
       "    <tr>\n",
       "      <th>LinearSVR</th>\n",
       "      <td>1.03</td>\n",
       "      <td>0.86</td>\n",
       "      <td>0.19</td>\n",
       "      <td>0.01</td>\n",
       "    </tr>\n",
       "    <tr>\n",
       "      <th>HuberRegressor</th>\n",
       "      <td>1.03</td>\n",
       "      <td>0.87</td>\n",
       "      <td>0.18</td>\n",
       "      <td>0.01</td>\n",
       "    </tr>\n",
       "    <tr>\n",
       "      <th>MLPRegressor</th>\n",
       "      <td>1.02</td>\n",
       "      <td>0.91</td>\n",
       "      <td>0.15</td>\n",
       "      <td>0.04</td>\n",
       "    </tr>\n",
       "    <tr>\n",
       "      <th>AdaBoostRegressor</th>\n",
       "      <td>1.02</td>\n",
       "      <td>0.91</td>\n",
       "      <td>0.15</td>\n",
       "      <td>0.03</td>\n",
       "    </tr>\n",
       "    <tr>\n",
       "      <th>XGBRegressor</th>\n",
       "      <td>1.02</td>\n",
       "      <td>0.91</td>\n",
       "      <td>0.15</td>\n",
       "      <td>0.11</td>\n",
       "    </tr>\n",
       "    <tr>\n",
       "      <th>GradientBoostingRegressor</th>\n",
       "      <td>1.02</td>\n",
       "      <td>0.91</td>\n",
       "      <td>0.15</td>\n",
       "      <td>0.06</td>\n",
       "    </tr>\n",
       "    <tr>\n",
       "      <th>LinearRegression</th>\n",
       "      <td>1.02</td>\n",
       "      <td>0.91</td>\n",
       "      <td>0.15</td>\n",
       "      <td>0.00</td>\n",
       "    </tr>\n",
       "    <tr>\n",
       "      <th>TransformedTargetRegressor</th>\n",
       "      <td>1.02</td>\n",
       "      <td>0.91</td>\n",
       "      <td>0.15</td>\n",
       "      <td>0.01</td>\n",
       "    </tr>\n",
       "    <tr>\n",
       "      <th>GaussianProcessRegressor</th>\n",
       "      <td>1.02</td>\n",
       "      <td>0.91</td>\n",
       "      <td>0.15</td>\n",
       "      <td>0.00</td>\n",
       "    </tr>\n",
       "    <tr>\n",
       "      <th>ExtraTreesRegressor</th>\n",
       "      <td>1.02</td>\n",
       "      <td>0.91</td>\n",
       "      <td>0.15</td>\n",
       "      <td>0.03</td>\n",
       "    </tr>\n",
       "    <tr>\n",
       "      <th>DecisionTreeRegressor</th>\n",
       "      <td>1.02</td>\n",
       "      <td>0.91</td>\n",
       "      <td>0.15</td>\n",
       "      <td>0.00</td>\n",
       "    </tr>\n",
       "    <tr>\n",
       "      <th>ExtraTreeRegressor</th>\n",
       "      <td>1.02</td>\n",
       "      <td>0.91</td>\n",
       "      <td>0.15</td>\n",
       "      <td>0.00</td>\n",
       "    </tr>\n",
       "  </tbody>\n",
       "</table>\n",
       "</div>"
      ],
      "text/plain": [
       "                                                              Adjusted R-Squared  \\\n",
       "Model                                                                              \n",
       "Lars                          25436129376666796875211631919045468716809191782...   \n",
       "KernelRidge                                                                 1.26   \n",
       "LassoLars                                                                   1.21   \n",
       "Lasso                                                                       1.21   \n",
       "ElasticNet                                                                  1.21   \n",
       "HistGradientBoostingRegressor                                               1.21   \n",
       "LGBMRegressor                                                               1.21   \n",
       "DummyRegressor                                                              1.21   \n",
       "KNeighborsRegressor                                                         1.15   \n",
       "NuSVR                                                                       1.15   \n",
       "BayesianRidge                                                               1.13   \n",
       "LassoLarsCV                                                                 1.13   \n",
       "LassoCV                                                                     1.13   \n",
       "ElasticNetCV                                                                1.13   \n",
       "PoissonRegressor                                                            1.12   \n",
       "OrthogonalMatchingPursuitCV                                                 1.11   \n",
       "SVR                                                                         1.11   \n",
       "TweedieRegressor                                                            1.10   \n",
       "SGDRegressor                                                                1.09   \n",
       "RidgeCV                                                                     1.08   \n",
       "PassiveAggressiveRegressor                                                  1.06   \n",
       "BaggingRegressor                                                            1.05   \n",
       "RandomForestRegressor                                                       1.04   \n",
       "Ridge                                                                       1.04   \n",
       "OrthogonalMatchingPursuit                                                   1.03   \n",
       "LinearSVR                                                                   1.03   \n",
       "HuberRegressor                                                              1.03   \n",
       "MLPRegressor                                                                1.02   \n",
       "AdaBoostRegressor                                                           1.02   \n",
       "XGBRegressor                                                                1.02   \n",
       "GradientBoostingRegressor                                                   1.02   \n",
       "LinearRegression                                                            1.02   \n",
       "TransformedTargetRegressor                                                  1.02   \n",
       "GaussianProcessRegressor                                                    1.02   \n",
       "ExtraTreesRegressor                                                         1.02   \n",
       "DecisionTreeRegressor                                                       1.02   \n",
       "ExtraTreeRegressor                                                          1.02   \n",
       "\n",
       "                                                                       R-Squared  \\\n",
       "Model                                                                              \n",
       "Lars                          -1225558960875763845190373865682291367035541545...   \n",
       "KernelRidge                                                                -0.26   \n",
       "LassoLars                                                                  -0.00   \n",
       "Lasso                                                                      -0.00   \n",
       "ElasticNet                                                                 -0.00   \n",
       "HistGradientBoostingRegressor                                               0.00   \n",
       "LGBMRegressor                                                               0.00   \n",
       "DummyRegressor                                                              0.00   \n",
       "KNeighborsRegressor                                                         0.27   \n",
       "NuSVR                                                                       0.30   \n",
       "BayesianRidge                                                               0.36   \n",
       "LassoLarsCV                                                                 0.37   \n",
       "LassoCV                                                                     0.37   \n",
       "ElasticNetCV                                                                0.39   \n",
       "PoissonRegressor                                                            0.44   \n",
       "OrthogonalMatchingPursuitCV                                                 0.46   \n",
       "SVR                                                                         0.49   \n",
       "TweedieRegressor                                                            0.53   \n",
       "SGDRegressor                                                                0.57   \n",
       "RidgeCV                                                                     0.61   \n",
       "PassiveAggressiveRegressor                                                  0.72   \n",
       "BaggingRegressor                                                            0.74   \n",
       "RandomForestRegressor                                                       0.81   \n",
       "Ridge                                                                       0.83   \n",
       "OrthogonalMatchingPursuit                                                   0.85   \n",
       "LinearSVR                                                                   0.86   \n",
       "HuberRegressor                                                              0.87   \n",
       "MLPRegressor                                                                0.91   \n",
       "AdaBoostRegressor                                                           0.91   \n",
       "XGBRegressor                                                                0.91   \n",
       "GradientBoostingRegressor                                                   0.91   \n",
       "LinearRegression                                                            0.91   \n",
       "TransformedTargetRegressor                                                  0.91   \n",
       "GaussianProcessRegressor                                                    0.91   \n",
       "ExtraTreesRegressor                                                         0.91   \n",
       "DecisionTreeRegressor                                                       0.91   \n",
       "ExtraTreeRegressor                                                          0.91   \n",
       "\n",
       "                                                              RMSE  Time Taken  \n",
       "Model                                                                           \n",
       "Lars                          553001404667712201047385487441920.00        0.01  \n",
       "KernelRidge                                                   0.56        0.00  \n",
       "LassoLars                                                     0.50        0.00  \n",
       "Lasso                                                         0.50        0.00  \n",
       "ElasticNet                                                    0.50        0.00  \n",
       "HistGradientBoostingRegressor                                 0.50        0.22  \n",
       "LGBMRegressor                                                 0.50        0.03  \n",
       "DummyRegressor                                                0.50        0.00  \n",
       "KNeighborsRegressor                                           0.43        0.01  \n",
       "NuSVR                                                         0.42        0.00  \n",
       "BayesianRidge                                                 0.40        0.01  \n",
       "LassoLarsCV                                                   0.40        0.02  \n",
       "LassoCV                                                       0.40        0.61  \n",
       "ElasticNetCV                                                  0.39        0.68  \n",
       "PoissonRegressor                                              0.38        0.09  \n",
       "OrthogonalMatchingPursuitCV                                   0.37        0.01  \n",
       "SVR                                                           0.36        0.01  \n",
       "TweedieRegressor                                              0.34        0.02  \n",
       "SGDRegressor                                                  0.33        0.01  \n",
       "RidgeCV                                                       0.31        0.01  \n",
       "PassiveAggressiveRegressor                                    0.27        0.00  \n",
       "BaggingRegressor                                              0.26        0.02  \n",
       "RandomForestRegressor                                         0.22        0.10  \n",
       "Ridge                                                         0.21        0.00  \n",
       "OrthogonalMatchingPursuit                                     0.19        0.01  \n",
       "LinearSVR                                                     0.19        0.01  \n",
       "HuberRegressor                                                0.18        0.01  \n",
       "MLPRegressor                                                  0.15        0.04  \n",
       "AdaBoostRegressor                                             0.15        0.03  \n",
       "XGBRegressor                                                  0.15        0.11  \n",
       "GradientBoostingRegressor                                     0.15        0.06  \n",
       "LinearRegression                                              0.15        0.00  \n",
       "TransformedTargetRegressor                                    0.15        0.01  \n",
       "GaussianProcessRegressor                                      0.15        0.00  \n",
       "ExtraTreesRegressor                                           0.15        0.03  \n",
       "DecisionTreeRegressor                                         0.15        0.00  \n",
       "ExtraTreeRegressor                                            0.15        0.00  "
      ]
     },
     "execution_count": 476,
     "metadata": {},
     "output_type": "execute_result"
    }
   ],
   "source": [
    "predictions_train"
   ]
  },
  {
   "cell_type": "code",
   "execution_count": 477,
   "metadata": {},
   "outputs": [
    {
     "data": {
      "text/html": [
       "<div>\n",
       "<style scoped>\n",
       "    .dataframe tbody tr th:only-of-type {\n",
       "        vertical-align: middle;\n",
       "    }\n",
       "\n",
       "    .dataframe tbody tr th {\n",
       "        vertical-align: top;\n",
       "    }\n",
       "\n",
       "    .dataframe thead th {\n",
       "        text-align: right;\n",
       "    }\n",
       "</style>\n",
       "<table border=\"1\" class=\"dataframe\">\n",
       "  <thead>\n",
       "    <tr style=\"text-align: right;\">\n",
       "      <th></th>\n",
       "      <th>Adjusted R-Squared</th>\n",
       "      <th>R-Squared</th>\n",
       "      <th>RMSE</th>\n",
       "      <th>Time Taken</th>\n",
       "    </tr>\n",
       "    <tr>\n",
       "      <th>Model</th>\n",
       "      <th></th>\n",
       "      <th></th>\n",
       "      <th></th>\n",
       "      <th></th>\n",
       "    </tr>\n",
       "  </thead>\n",
       "  <tbody>\n",
       "    <tr>\n",
       "      <th>Lars</th>\n",
       "      <td>33058546451556792976037079761660370713790308271...</td>\n",
       "      <td>-1509194511918897157978760394499184072910106048...</td>\n",
       "      <td>5791170505210491389448282609163436032.00</td>\n",
       "      <td>0.01</td>\n",
       "    </tr>\n",
       "    <tr>\n",
       "      <th>OrthogonalMatchingPursuit</th>\n",
       "      <td>1.60</td>\n",
       "      <td>-1.75</td>\n",
       "      <td>0.78</td>\n",
       "      <td>0.01</td>\n",
       "    </tr>\n",
       "    <tr>\n",
       "      <th>AdaBoostRegressor</th>\n",
       "      <td>1.51</td>\n",
       "      <td>-1.33</td>\n",
       "      <td>0.72</td>\n",
       "      <td>0.03</td>\n",
       "    </tr>\n",
       "    <tr>\n",
       "      <th>MLPRegressor</th>\n",
       "      <td>1.39</td>\n",
       "      <td>-0.78</td>\n",
       "      <td>0.63</td>\n",
       "      <td>0.06</td>\n",
       "    </tr>\n",
       "    <tr>\n",
       "      <th>DecisionTreeRegressor</th>\n",
       "      <td>1.37</td>\n",
       "      <td>-0.69</td>\n",
       "      <td>0.61</td>\n",
       "      <td>0.01</td>\n",
       "    </tr>\n",
       "    <tr>\n",
       "      <th>ExtraTreeRegressor</th>\n",
       "      <td>1.37</td>\n",
       "      <td>-0.69</td>\n",
       "      <td>0.61</td>\n",
       "      <td>0.00</td>\n",
       "    </tr>\n",
       "    <tr>\n",
       "      <th>LinearRegression</th>\n",
       "      <td>1.37</td>\n",
       "      <td>-0.69</td>\n",
       "      <td>0.61</td>\n",
       "      <td>0.00</td>\n",
       "    </tr>\n",
       "    <tr>\n",
       "      <th>TransformedTargetRegressor</th>\n",
       "      <td>1.37</td>\n",
       "      <td>-0.69</td>\n",
       "      <td>0.61</td>\n",
       "      <td>0.01</td>\n",
       "    </tr>\n",
       "    <tr>\n",
       "      <th>XGBRegressor</th>\n",
       "      <td>1.35</td>\n",
       "      <td>-0.60</td>\n",
       "      <td>0.60</td>\n",
       "      <td>0.15</td>\n",
       "    </tr>\n",
       "    <tr>\n",
       "      <th>ExtraTreesRegressor</th>\n",
       "      <td>1.35</td>\n",
       "      <td>-0.59</td>\n",
       "      <td>0.59</td>\n",
       "      <td>0.03</td>\n",
       "    </tr>\n",
       "    <tr>\n",
       "      <th>GradientBoostingRegressor</th>\n",
       "      <td>1.35</td>\n",
       "      <td>-0.58</td>\n",
       "      <td>0.59</td>\n",
       "      <td>0.06</td>\n",
       "    </tr>\n",
       "    <tr>\n",
       "      <th>GaussianProcessRegressor</th>\n",
       "      <td>1.34</td>\n",
       "      <td>-0.55</td>\n",
       "      <td>0.59</td>\n",
       "      <td>0.00</td>\n",
       "    </tr>\n",
       "    <tr>\n",
       "      <th>BaggingRegressor</th>\n",
       "      <td>1.33</td>\n",
       "      <td>-0.49</td>\n",
       "      <td>0.58</td>\n",
       "      <td>0.01</td>\n",
       "    </tr>\n",
       "    <tr>\n",
       "      <th>KNeighborsRegressor</th>\n",
       "      <td>1.31</td>\n",
       "      <td>-0.41</td>\n",
       "      <td>0.56</td>\n",
       "      <td>0.00</td>\n",
       "    </tr>\n",
       "    <tr>\n",
       "      <th>OrthogonalMatchingPursuitCV</th>\n",
       "      <td>1.31</td>\n",
       "      <td>-0.41</td>\n",
       "      <td>0.56</td>\n",
       "      <td>0.02</td>\n",
       "    </tr>\n",
       "    <tr>\n",
       "      <th>KernelRidge</th>\n",
       "      <td>1.31</td>\n",
       "      <td>-0.41</td>\n",
       "      <td>0.56</td>\n",
       "      <td>0.00</td>\n",
       "    </tr>\n",
       "    <tr>\n",
       "      <th>SVR</th>\n",
       "      <td>1.30</td>\n",
       "      <td>-0.39</td>\n",
       "      <td>0.56</td>\n",
       "      <td>0.01</td>\n",
       "    </tr>\n",
       "    <tr>\n",
       "      <th>PoissonRegressor</th>\n",
       "      <td>1.30</td>\n",
       "      <td>-0.37</td>\n",
       "      <td>0.55</td>\n",
       "      <td>0.04</td>\n",
       "    </tr>\n",
       "    <tr>\n",
       "      <th>RandomForestRegressor</th>\n",
       "      <td>1.28</td>\n",
       "      <td>-0.29</td>\n",
       "      <td>0.54</td>\n",
       "      <td>0.09</td>\n",
       "    </tr>\n",
       "    <tr>\n",
       "      <th>TweedieRegressor</th>\n",
       "      <td>1.27</td>\n",
       "      <td>-0.24</td>\n",
       "      <td>0.53</td>\n",
       "      <td>0.03</td>\n",
       "    </tr>\n",
       "    <tr>\n",
       "      <th>BayesianRidge</th>\n",
       "      <td>1.27</td>\n",
       "      <td>-0.24</td>\n",
       "      <td>0.52</td>\n",
       "      <td>0.01</td>\n",
       "    </tr>\n",
       "    <tr>\n",
       "      <th>LassoCV</th>\n",
       "      <td>1.27</td>\n",
       "      <td>-0.22</td>\n",
       "      <td>0.52</td>\n",
       "      <td>0.60</td>\n",
       "    </tr>\n",
       "    <tr>\n",
       "      <th>ElasticNetCV</th>\n",
       "      <td>1.27</td>\n",
       "      <td>-0.22</td>\n",
       "      <td>0.52</td>\n",
       "      <td>0.70</td>\n",
       "    </tr>\n",
       "    <tr>\n",
       "      <th>LassoLarsCV</th>\n",
       "      <td>1.27</td>\n",
       "      <td>-0.22</td>\n",
       "      <td>0.52</td>\n",
       "      <td>0.02</td>\n",
       "    </tr>\n",
       "    <tr>\n",
       "      <th>RidgeCV</th>\n",
       "      <td>1.26</td>\n",
       "      <td>-0.19</td>\n",
       "      <td>0.52</td>\n",
       "      <td>0.01</td>\n",
       "    </tr>\n",
       "    <tr>\n",
       "      <th>LGBMRegressor</th>\n",
       "      <td>1.25</td>\n",
       "      <td>-0.16</td>\n",
       "      <td>0.51</td>\n",
       "      <td>0.03</td>\n",
       "    </tr>\n",
       "    <tr>\n",
       "      <th>HistGradientBoostingRegressor</th>\n",
       "      <td>1.25</td>\n",
       "      <td>-0.16</td>\n",
       "      <td>0.51</td>\n",
       "      <td>0.24</td>\n",
       "    </tr>\n",
       "    <tr>\n",
       "      <th>DummyRegressor</th>\n",
       "      <td>1.25</td>\n",
       "      <td>-0.16</td>\n",
       "      <td>0.51</td>\n",
       "      <td>0.00</td>\n",
       "    </tr>\n",
       "    <tr>\n",
       "      <th>Lasso</th>\n",
       "      <td>1.25</td>\n",
       "      <td>-0.16</td>\n",
       "      <td>0.51</td>\n",
       "      <td>0.00</td>\n",
       "    </tr>\n",
       "    <tr>\n",
       "      <th>ElasticNet</th>\n",
       "      <td>1.25</td>\n",
       "      <td>-0.16</td>\n",
       "      <td>0.51</td>\n",
       "      <td>0.00</td>\n",
       "    </tr>\n",
       "    <tr>\n",
       "      <th>LassoLars</th>\n",
       "      <td>1.25</td>\n",
       "      <td>-0.16</td>\n",
       "      <td>0.51</td>\n",
       "      <td>0.00</td>\n",
       "    </tr>\n",
       "    <tr>\n",
       "      <th>PassiveAggressiveRegressor</th>\n",
       "      <td>1.25</td>\n",
       "      <td>-0.15</td>\n",
       "      <td>0.50</td>\n",
       "      <td>0.01</td>\n",
       "    </tr>\n",
       "    <tr>\n",
       "      <th>NuSVR</th>\n",
       "      <td>1.24</td>\n",
       "      <td>-0.11</td>\n",
       "      <td>0.50</td>\n",
       "      <td>0.01</td>\n",
       "    </tr>\n",
       "    <tr>\n",
       "      <th>SGDRegressor</th>\n",
       "      <td>1.23</td>\n",
       "      <td>-0.04</td>\n",
       "      <td>0.48</td>\n",
       "      <td>0.00</td>\n",
       "    </tr>\n",
       "    <tr>\n",
       "      <th>Ridge</th>\n",
       "      <td>1.22</td>\n",
       "      <td>-0.02</td>\n",
       "      <td>0.48</td>\n",
       "      <td>0.01</td>\n",
       "    </tr>\n",
       "    <tr>\n",
       "      <th>LinearSVR</th>\n",
       "      <td>1.22</td>\n",
       "      <td>-0.01</td>\n",
       "      <td>0.47</td>\n",
       "      <td>0.01</td>\n",
       "    </tr>\n",
       "    <tr>\n",
       "      <th>HuberRegressor</th>\n",
       "      <td>1.22</td>\n",
       "      <td>-0.00</td>\n",
       "      <td>0.47</td>\n",
       "      <td>0.01</td>\n",
       "    </tr>\n",
       "  </tbody>\n",
       "</table>\n",
       "</div>"
      ],
      "text/plain": [
       "                                                              Adjusted R-Squared  \\\n",
       "Model                                                                              \n",
       "Lars                          33058546451556792976037079761660370713790308271...   \n",
       "OrthogonalMatchingPursuit                                                   1.60   \n",
       "AdaBoostRegressor                                                           1.51   \n",
       "MLPRegressor                                                                1.39   \n",
       "DecisionTreeRegressor                                                       1.37   \n",
       "ExtraTreeRegressor                                                          1.37   \n",
       "LinearRegression                                                            1.37   \n",
       "TransformedTargetRegressor                                                  1.37   \n",
       "XGBRegressor                                                                1.35   \n",
       "ExtraTreesRegressor                                                         1.35   \n",
       "GradientBoostingRegressor                                                   1.35   \n",
       "GaussianProcessRegressor                                                    1.34   \n",
       "BaggingRegressor                                                            1.33   \n",
       "KNeighborsRegressor                                                         1.31   \n",
       "OrthogonalMatchingPursuitCV                                                 1.31   \n",
       "KernelRidge                                                                 1.31   \n",
       "SVR                                                                         1.30   \n",
       "PoissonRegressor                                                            1.30   \n",
       "RandomForestRegressor                                                       1.28   \n",
       "TweedieRegressor                                                            1.27   \n",
       "BayesianRidge                                                               1.27   \n",
       "LassoCV                                                                     1.27   \n",
       "ElasticNetCV                                                                1.27   \n",
       "LassoLarsCV                                                                 1.27   \n",
       "RidgeCV                                                                     1.26   \n",
       "LGBMRegressor                                                               1.25   \n",
       "HistGradientBoostingRegressor                                               1.25   \n",
       "DummyRegressor                                                              1.25   \n",
       "Lasso                                                                       1.25   \n",
       "ElasticNet                                                                  1.25   \n",
       "LassoLars                                                                   1.25   \n",
       "PassiveAggressiveRegressor                                                  1.25   \n",
       "NuSVR                                                                       1.24   \n",
       "SGDRegressor                                                                1.23   \n",
       "Ridge                                                                       1.22   \n",
       "LinearSVR                                                                   1.22   \n",
       "HuberRegressor                                                              1.22   \n",
       "\n",
       "                                                                       R-Squared  \\\n",
       "Model                                                                              \n",
       "Lars                          -1509194511918897157978760394499184072910106048...   \n",
       "OrthogonalMatchingPursuit                                                  -1.75   \n",
       "AdaBoostRegressor                                                          -1.33   \n",
       "MLPRegressor                                                               -0.78   \n",
       "DecisionTreeRegressor                                                      -0.69   \n",
       "ExtraTreeRegressor                                                         -0.69   \n",
       "LinearRegression                                                           -0.69   \n",
       "TransformedTargetRegressor                                                 -0.69   \n",
       "XGBRegressor                                                               -0.60   \n",
       "ExtraTreesRegressor                                                        -0.59   \n",
       "GradientBoostingRegressor                                                  -0.58   \n",
       "GaussianProcessRegressor                                                   -0.55   \n",
       "BaggingRegressor                                                           -0.49   \n",
       "KNeighborsRegressor                                                        -0.41   \n",
       "OrthogonalMatchingPursuitCV                                                -0.41   \n",
       "KernelRidge                                                                -0.41   \n",
       "SVR                                                                        -0.39   \n",
       "PoissonRegressor                                                           -0.37   \n",
       "RandomForestRegressor                                                      -0.29   \n",
       "TweedieRegressor                                                           -0.24   \n",
       "BayesianRidge                                                              -0.24   \n",
       "LassoCV                                                                    -0.22   \n",
       "ElasticNetCV                                                               -0.22   \n",
       "LassoLarsCV                                                                -0.22   \n",
       "RidgeCV                                                                    -0.19   \n",
       "LGBMRegressor                                                              -0.16   \n",
       "HistGradientBoostingRegressor                                              -0.16   \n",
       "DummyRegressor                                                             -0.16   \n",
       "Lasso                                                                      -0.16   \n",
       "ElasticNet                                                                 -0.16   \n",
       "LassoLars                                                                  -0.16   \n",
       "PassiveAggressiveRegressor                                                 -0.15   \n",
       "NuSVR                                                                      -0.11   \n",
       "SGDRegressor                                                               -0.04   \n",
       "Ridge                                                                      -0.02   \n",
       "LinearSVR                                                                  -0.01   \n",
       "HuberRegressor                                                             -0.00   \n",
       "\n",
       "                                                                  RMSE  \\\n",
       "Model                                                                    \n",
       "Lars                          5791170505210491389448282609163436032.00   \n",
       "OrthogonalMatchingPursuit                                         0.78   \n",
       "AdaBoostRegressor                                                 0.72   \n",
       "MLPRegressor                                                      0.63   \n",
       "DecisionTreeRegressor                                             0.61   \n",
       "ExtraTreeRegressor                                                0.61   \n",
       "LinearRegression                                                  0.61   \n",
       "TransformedTargetRegressor                                        0.61   \n",
       "XGBRegressor                                                      0.60   \n",
       "ExtraTreesRegressor                                               0.59   \n",
       "GradientBoostingRegressor                                         0.59   \n",
       "GaussianProcessRegressor                                          0.59   \n",
       "BaggingRegressor                                                  0.58   \n",
       "KNeighborsRegressor                                               0.56   \n",
       "OrthogonalMatchingPursuitCV                                       0.56   \n",
       "KernelRidge                                                       0.56   \n",
       "SVR                                                               0.56   \n",
       "PoissonRegressor                                                  0.55   \n",
       "RandomForestRegressor                                             0.54   \n",
       "TweedieRegressor                                                  0.53   \n",
       "BayesianRidge                                                     0.52   \n",
       "LassoCV                                                           0.52   \n",
       "ElasticNetCV                                                      0.52   \n",
       "LassoLarsCV                                                       0.52   \n",
       "RidgeCV                                                           0.52   \n",
       "LGBMRegressor                                                     0.51   \n",
       "HistGradientBoostingRegressor                                     0.51   \n",
       "DummyRegressor                                                    0.51   \n",
       "Lasso                                                             0.51   \n",
       "ElasticNet                                                        0.51   \n",
       "LassoLars                                                         0.51   \n",
       "PassiveAggressiveRegressor                                        0.50   \n",
       "NuSVR                                                             0.50   \n",
       "SGDRegressor                                                      0.48   \n",
       "Ridge                                                             0.48   \n",
       "LinearSVR                                                         0.47   \n",
       "HuberRegressor                                                    0.47   \n",
       "\n",
       "                               Time Taken  \n",
       "Model                                      \n",
       "Lars                                 0.01  \n",
       "OrthogonalMatchingPursuit            0.01  \n",
       "AdaBoostRegressor                    0.03  \n",
       "MLPRegressor                         0.06  \n",
       "DecisionTreeRegressor                0.01  \n",
       "ExtraTreeRegressor                   0.00  \n",
       "LinearRegression                     0.00  \n",
       "TransformedTargetRegressor           0.01  \n",
       "XGBRegressor                         0.15  \n",
       "ExtraTreesRegressor                  0.03  \n",
       "GradientBoostingRegressor            0.06  \n",
       "GaussianProcessRegressor             0.00  \n",
       "BaggingRegressor                     0.01  \n",
       "KNeighborsRegressor                  0.00  \n",
       "OrthogonalMatchingPursuitCV          0.02  \n",
       "KernelRidge                          0.00  \n",
       "SVR                                  0.01  \n",
       "PoissonRegressor                     0.04  \n",
       "RandomForestRegressor                0.09  \n",
       "TweedieRegressor                     0.03  \n",
       "BayesianRidge                        0.01  \n",
       "LassoCV                              0.60  \n",
       "ElasticNetCV                         0.70  \n",
       "LassoLarsCV                          0.02  \n",
       "RidgeCV                              0.01  \n",
       "LGBMRegressor                        0.03  \n",
       "HistGradientBoostingRegressor        0.24  \n",
       "DummyRegressor                       0.00  \n",
       "Lasso                                0.00  \n",
       "ElasticNet                           0.00  \n",
       "LassoLars                            0.00  \n",
       "PassiveAggressiveRegressor           0.01  \n",
       "NuSVR                                0.01  \n",
       "SGDRegressor                         0.00  \n",
       "Ridge                                0.01  \n",
       "LinearSVR                            0.01  \n",
       "HuberRegressor                       0.01  "
      ]
     },
     "execution_count": 477,
     "metadata": {},
     "output_type": "execute_result"
    }
   ],
   "source": [
    "# Performance table of the test set (20% subset)\n",
    "predictions_test"
   ]
  },
  {
   "cell_type": "code",
   "execution_count": 478,
   "metadata": {},
   "outputs": [
    {
     "data": {
      "text/plain": [
       "[(0.0, 1.0)]"
      ]
     },
     "execution_count": 478,
     "metadata": {},
     "output_type": "execute_result"
    },
    {
     "data": {
      "image/png": "[encoded data removed]",
      "text/plain": [
       "<Figure size 500x1000 with 1 Axes>"
      ]
     },
     "metadata": {},
     "output_type": "display_data"
    }
   ],
   "source": [
    "# Bar plot of R-squared values\n",
    "import matplotlib.pyplot as plt\n",
    "import seaborn as sns\n",
    "\n",
    "#train[\"R-Squared\"] = [0 if i < 0 else i for i in train.iloc[:,0] ]\n",
    "\n",
    "plt.figure(figsize=(5, 10))\n",
    "sns.set_theme(style=\"whitegrid\")\n",
    "ax = sns.barplot(y=predictions_train.index, x=\"R-Squared\", data=predictions_train)\n",
    "ax.set(xlim=(0, 1))"
   ]
  },
  {
   "cell_type": "code",
   "execution_count": 479,
   "metadata": {},
   "outputs": [
    {
     "data": {
      "text/plain": [
       "[(0.0, 10.0)]"
      ]
     },
     "execution_count": 479,
     "metadata": {},
     "output_type": "execute_result"
    },
    {
     "data": {
      "image/png": "[encoded data removed]",
      "text/plain": [
       "<Figure size 500x1000 with 1 Axes>"
      ]
     },
     "metadata": {},
     "output_type": "display_data"
    }
   ],
   "source": [
    "# Bar plot of RMSE values\n",
    "import matplotlib.pyplot as plt\n",
    "import seaborn as sns\n",
    "\n",
    "plt.figure(figsize=(5, 10))\n",
    "sns.set_theme(style=\"whitegrid\")\n",
    "ax = sns.barplot(y=predictions_train.index, x=\"RMSE\", data=predictions_train)\n",
    "ax.set(xlim=(0, 10))"
   ]
  },
  {
   "cell_type": "code",
   "execution_count": 480,
   "metadata": {},
   "outputs": [
    {
     "data": {
      "text/plain": [
       "[(0.0, 10.0)]"
      ]
     },
     "execution_count": 480,
     "metadata": {},
     "output_type": "execute_result"
    },
    {
     "data": {
      "image/png": "[encoded data removed]",
      "text/plain": [
       "<Figure size 500x1000 with 1 Axes>"
      ]
     },
     "metadata": {},
     "output_type": "display_data"
    }
   ],
   "source": [
    "# Bar plot of calculation time\n",
    "import matplotlib.pyplot as plt\n",
    "import seaborn as sns\n",
    "\n",
    "plt.figure(figsize=(5, 10))\n",
    "sns.set_theme(style=\"whitegrid\")\n",
    "ax = sns.barplot(y=predictions_train.index, x=\"Time Taken\", data=predictions_train)\n",
    "ax.set(xlim=(0, 10))"
   ]
  }
 ],
 "metadata": {
  "kernelspec": {
   "display_name": "Python 3 (ipykernel)",
   "language": "python",
   "name": "python3"
  },
  "language_info": {
   "codemirror_mode": {
    "name": "ipython",
    "version": 3
   },
   "file_extension": ".py",
   "mimetype": "text/x-python",
   "name": "python",
   "nbconvert_exporter": "python",
   "pygments_lexer": "ipython3",
   "version": "3.11.5"
  }
 },
 "nbformat": 4,
 "nbformat_minor": 4
}
