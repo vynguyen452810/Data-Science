{
 "cells": [
  {
   "cell_type": "code",
   "execution_count": 3,
   "id": "f8b2c5e6",
   "metadata": {},
   "outputs": [
    {
     "name": "stdout",
     "output_type": "stream",
     "text": [
      "Collecting package metadata (current_repodata.json): done\n",
      "Solving environment: done\n",
      "\n",
      "\n",
      "==> WARNING: A newer version of conda exists. <==\n",
      "  current version: 23.7.4\n",
      "  latest version: 23.10.0\n",
      "\n",
      "Please update conda by running\n",
      "\n",
      "    $ conda update -n base -c defaults conda\n",
      "\n",
      "Or to minimize the number of packages updated during conda update use\n",
      "\n",
      "     conda install conda=23.10.0\n",
      "\n",
      "\n",
      "\n",
      "## Package Plan ##\n",
      "\n",
      "  environment location: /Users/vuduc/anaconda3\n",
      "\n",
      "  added / updated specs:\n",
      "    - lightgbm\n",
      "\n",
      "\n",
      "The following packages will be downloaded:\n",
      "\n",
      "    package                    |            build\n",
      "    ---------------------------|-----------------\n",
      "    ca-certificates-2023.11.17 |       hf0a4a13_0         151 KB  conda-forge\n",
      "    certifi-2023.11.17         |     pyhd8ed1ab_0         155 KB  conda-forge\n",
      "    lightgbm-4.1.0             |  py311h313beb8_0         1.2 MB\n",
      "    openssl-3.2.0              |       h0d3ecfb_1         2.7 MB  conda-forge\n",
      "    ------------------------------------------------------------\n",
      "                                           Total:         4.2 MB\n",
      "\n",
      "The following NEW packages will be INSTALLED:\n",
      "\n",
      "  lightgbm           pkgs/main/osx-arm64::lightgbm-4.1.0-py311h313beb8_0 \n",
      "\n",
      "The following packages will be UPDATED:\n",
      "\n",
      "  ca-certificates    pkgs/main::ca-certificates-2023.08.22~ --> conda-forge::ca-certificates-2023.11.17-hf0a4a13_0 \n",
      "  openssl              pkgs/main::openssl-3.0.12-h1a28f6b_0 --> conda-forge::openssl-3.2.0-h0d3ecfb_1 \n",
      "\n",
      "The following packages will be SUPERSEDED by a higher-priority channel:\n",
      "\n",
      "  certifi            pkgs/main/osx-arm64::certifi-2023.11.~ --> conda-forge/noarch::certifi-2023.11.17-pyhd8ed1ab_0 \n",
      "\n",
      "\n",
      "\n",
      "Downloading and Extracting Packages\n",
      "certifi-2023.11.17   | 155 KB    |                                       |   0% \n",
      "ca-certificates-2023 | 151 KB    |                                       |   0% \u001b[A\n",
      "\n",
      "openssl-3.2.0        | 2.7 MB    |                                       |   0% \u001b[A\u001b[A\n",
      "\n",
      "\n",
      "certifi-2023.11.17   | 155 KB    | ###8                                  |  10% \u001b[A\u001b[A\u001b[A\n",
      "\n",
      "\n",
      "certifi-2023.11.17   | 155 KB    | ##################################### | 100% \u001b[A\u001b[A\u001b[A\n",
      "\n",
      "openssl-3.2.0        | 2.7 MB    | 2                                     |   1% \u001b[A\u001b[A\n",
      "ca-certificates-2023 | 151 KB    | ###9                                  |  11% \u001b[A\n",
      "ca-certificates-2023 | 151 KB    | ##################################### | 100% \u001b[A\n",
      "\n",
      "\n",
      "lightgbm-4.1.0       | 1.2 MB    | ##################################### | 100% \u001b[A\u001b[A\u001b[A\n",
      "\n",
      "\n",
      "lightgbm-4.1.0       | 1.2 MB    | ##################################### | 100% \u001b[A\u001b[A\u001b[A\n",
      "\n",
      "openssl-3.2.0        | 2.7 MB    | ################################2     |  87% \u001b[A\u001b[A\n",
      "\n",
      "                                                                                \u001b[A\u001b[A\n",
      "                                                                                \u001b[A\n",
      "\n",
      "                                                                                \u001b[A\u001b[A\n",
      "\n",
      "\n",
      "                                                                                \u001b[A\u001b[A\u001b[A\n",
      "Preparing transaction: done\n",
      "Verifying transaction: done\n",
      "Executing transaction: done\n",
      "\n",
      "Note: you may need to restart the kernel to use updated packages.\n"
     ]
    }
   ],
   "source": [
    "conda install -c conda-forge lightgbm\n"
   ]
  },
  {
   "cell_type": "code",
   "execution_count": 5,
   "id": "ab40ff9e",
   "metadata": {},
   "outputs": [
    {
     "name": "stdout",
     "output_type": "stream",
     "text": [
      "Collecting lazypredict\n",
      "  Using cached lazypredict-0.2.12-py2.py3-none-any.whl (12 kB)\n",
      "Requirement already satisfied: click in /Users/vuduc/anaconda3/lib/python3.11/site-packages (from lazypredict) (8.0.4)\n",
      "Requirement already satisfied: scikit-learn in /Users/vuduc/anaconda3/lib/python3.11/site-packages (from lazypredict) (1.3.0)\n",
      "Requirement already satisfied: pandas in /Users/vuduc/anaconda3/lib/python3.11/site-packages (from lazypredict) (2.0.3)\n",
      "Requirement already satisfied: tqdm in /Users/vuduc/anaconda3/lib/python3.11/site-packages (from lazypredict) (4.65.0)\n",
      "Requirement already satisfied: joblib in /Users/vuduc/anaconda3/lib/python3.11/site-packages (from lazypredict) (1.2.0)\n",
      "Requirement already satisfied: lightgbm in /Users/vuduc/anaconda3/lib/python3.11/site-packages (from lazypredict) (4.1.0)\n",
      "Collecting xgboost (from lazypredict)\n",
      "  Obtaining dependency information for xgboost from https://files.pythonhosted.org/packages/76/e8/260752c1bc8dc856b27cfefaa3fca29ba02a15f649bbf6e9c15ed54e5480/xgboost-2.0.2-py3-none-macosx_12_0_arm64.whl.metadata\n",
      "  Using cached xgboost-2.0.2-py3-none-macosx_12_0_arm64.whl.metadata (2.0 kB)\n",
      "Requirement already satisfied: numpy in /Users/vuduc/anaconda3/lib/python3.11/site-packages (from lightgbm->lazypredict) (1.24.3)\n",
      "Requirement already satisfied: scipy in /Users/vuduc/anaconda3/lib/python3.11/site-packages (from lightgbm->lazypredict) (1.11.1)\n",
      "Requirement already satisfied: python-dateutil>=2.8.2 in /Users/vuduc/anaconda3/lib/python3.11/site-packages (from pandas->lazypredict) (2.8.2)\n",
      "Requirement already satisfied: pytz>=2020.1 in /Users/vuduc/anaconda3/lib/python3.11/site-packages (from pandas->lazypredict) (2023.3.post1)\n",
      "Requirement already satisfied: tzdata>=2022.1 in /Users/vuduc/anaconda3/lib/python3.11/site-packages (from pandas->lazypredict) (2023.3)\n",
      "Requirement already satisfied: threadpoolctl>=2.0.0 in /Users/vuduc/anaconda3/lib/python3.11/site-packages (from scikit-learn->lazypredict) (2.2.0)\n",
      "Requirement already satisfied: six>=1.5 in /Users/vuduc/anaconda3/lib/python3.11/site-packages (from python-dateutil>=2.8.2->pandas->lazypredict) (1.16.0)\n",
      "Using cached xgboost-2.0.2-py3-none-macosx_12_0_arm64.whl (1.9 MB)\n",
      "Installing collected packages: xgboost, lazypredict\n",
      "Successfully installed lazypredict-0.2.12 xgboost-2.0.2\n"
     ]
    }
   ],
   "source": [
    "! pip install lazypredict"
   ]
  },
  {
   "cell_type": "code",
   "execution_count": 4,
   "id": "29da5541",
   "metadata": {},
   "outputs": [],
   "source": [
    "from sklearn.model_selection import train_test_split\n",
    "from sklearn import metrics"
   ]
  },
  {
   "cell_type": "code",
   "execution_count": null,
   "id": "43f13bc4",
   "metadata": {},
   "outputs": [],
   "source": [
    "types=np.array([classtype.split('_')[0] for classtype in le.classes_ ])\n",
    "print(\"types: \", types)"
   ]
  }
 ],
 "metadata": {
  "kernelspec": {
   "display_name": "Python 3 (ipykernel)",
   "language": "python",
   "name": "python3"
  },
  "language_info": {
   "codemirror_mode": {
    "name": "ipython",
    "version": 3
   },
   "file_extension": ".py",
   "mimetype": "text/x-python",
   "name": "python",
   "nbconvert_exporter": "python",
   "pygments_lexer": "ipython3",
   "version": "3.11.5"
  }
 },
 "nbformat": 4,
 "nbformat_minor": 5
}
