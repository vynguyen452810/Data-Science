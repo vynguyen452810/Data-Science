{
 "cells": [
  {
   "cell_type": "code",
   "execution_count": 1,
   "metadata": {},
   "outputs": [],
   "source": [
    "import numpy as np\n",
    "import pandas as pd\n",
    "from itertools import combinations\n",
    "from sklearn.preprocessing import LabelEncoder\n",
    "import pickle"
   ]
  },
  {
   "cell_type": "markdown",
   "metadata": {},
   "source": [
    "Initialize variables"
   ]
  },
  {
   "cell_type": "code",
   "execution_count": 2,
   "metadata": {},
   "outputs": [],
   "source": [
    "data_path='data/' \n",
    "exp_id='v0'\n",
    "codes={}"
   ]
  },
  {
   "cell_type": "markdown",
   "metadata": {},
   "source": [
    "## Drug/target interactions"
   ]
  },
  {
   "cell_type": "code",
   "execution_count": 3,
   "metadata": {},
   "outputs": [],
   "source": [
    "# Load drugs\n",
    "chemicals = pd.read_csv(data_path+'CTD/chemicals.csv')\n",
    "chemicals.dropna(subset=[\"Direct Evidence\", \"Inference Network\"], inplace=True)\n",
    "chemicals[\"Gene Symbol\"] = chemicals[\"Inference Network\"].str.split(\"|\")\n",
    "chemicals = chemicals.explode(\"Gene Symbol\")\n",
    "chemicals\n",
    "\n",
    "# Load genes\n",
    "gene = pd.read_csv(data_path+\"CTD/genes.csv\")"
   ]
  },
  {
   "cell_type": "code",
   "execution_count": 4,
   "metadata": {},
   "outputs": [],
   "source": [
    "# Generate codes\n",
    "codes['gene_symbol2id']={row['Gene Symbol'].upper():row['Gene ID'] for _, row in gene[['Gene Symbol','Gene ID']].drop_duplicates().iterrows()}\n",
    "codes['gene_id2symbol']={row['Gene ID']:row['Gene Symbol'].upper() for _, row in gene[['Gene ID','Gene Symbol']].drop_duplicates().iterrows()}"
   ]
  },
  {
   "cell_type": "code",
   "execution_count": 5,
   "metadata": {},
   "outputs": [],
   "source": [
    "# Generate gene/drug interactions\n",
    "gene_drug = chemicals.merge(gene[[\"Gene Symbol\", \"Gene ID\"]], how=\"left\")\n",
    "gene_drug = gene_drug[['Gene ID', 'Chemical Name']]\n",
    "gene_drug['Chemical Name'] = gene_drug['Chemical Name'].str.upper()\n",
    "gene_drug['Gene ID'] = 'gene_' + gene_drug['Gene ID'].astype(int).astype(\"string\")\n",
    "gene_drug['Chemical Name'] = 'drug_' + gene_drug['Chemical Name']\n",
    "\n",
    "gene_drug.drop_duplicates(inplace=True)"
   ]
  },
  {
   "cell_type": "markdown",
   "metadata": {},
   "source": [
    "## SARS-CoV-2 and human protein interactions"
   ]
  },
  {
   "cell_type": "markdown",
   "metadata": {},
   "source": [
    "From [Gorden et al. Nature 2020](https://www.nature.com/articles/s41586-020-2286-9#Sec36)\n",
    "Pulled from Supplementary Table 5"
   ]
  },
  {
   "cell_type": "code",
   "execution_count": 6,
   "metadata": {},
   "outputs": [
    {
     "data": {
      "text/html": [
       "<div>\n",
       "<style scoped>\n",
       "    .dataframe tbody tr th:only-of-type {\n",
       "        vertical-align: middle;\n",
       "    }\n",
       "\n",
       "    .dataframe tbody tr th {\n",
       "        vertical-align: top;\n",
       "    }\n",
       "\n",
       "    .dataframe thead th {\n",
       "        text-align: right;\n",
       "    }\n",
       "</style>\n",
       "<table border=\"1\" class=\"dataframe\">\n",
       "  <thead>\n",
       "    <tr style=\"text-align: right;\">\n",
       "      <th></th>\n",
       "      <th>Bait</th>\n",
       "      <th>PreyGene</th>\n",
       "    </tr>\n",
       "  </thead>\n",
       "  <tbody>\n",
       "    <tr>\n",
       "      <th>9</th>\n",
       "      <td>bait_SARS-CoV2 E</td>\n",
       "      <td>gene_8546</td>\n",
       "    </tr>\n",
       "    <tr>\n",
       "      <th>56</th>\n",
       "      <td>bait_SARS-CoV2 E</td>\n",
       "      <td>gene_23476</td>\n",
       "    </tr>\n",
       "    <tr>\n",
       "      <th>187</th>\n",
       "      <td>bait_SARS-CoV2 E</td>\n",
       "      <td>gene_6046</td>\n",
       "    </tr>\n",
       "    <tr>\n",
       "      <th>562</th>\n",
       "      <td>bait_SARS-CoV2 E</td>\n",
       "      <td>gene_10283</td>\n",
       "    </tr>\n",
       "    <tr>\n",
       "      <th>685</th>\n",
       "      <td>bait_SARS-CoV2 E</td>\n",
       "      <td>gene_6391</td>\n",
       "    </tr>\n",
       "  </tbody>\n",
       "</table>\n",
       "</div>"
      ],
      "text/plain": [
       "                 Bait    PreyGene\n",
       "9    bait_SARS-CoV2 E   gene_8546\n",
       "56   bait_SARS-CoV2 E  gene_23476\n",
       "187  bait_SARS-CoV2 E   gene_6046\n",
       "562  bait_SARS-CoV2 E  gene_10283\n",
       "685  bait_SARS-CoV2 E   gene_6391"
      ]
     },
     "execution_count": 6,
     "metadata": {},
     "output_type": "execute_result"
    }
   ],
   "source": [
    "# Pull the data\n",
    "baits_gene = pd.read_csv(data_path+'biology-database/baits-prey-mist.csv')\n",
    "\n",
    "# only MiST > 0.8\n",
    "baits_gene = baits_gene[baits_gene['MIST'] > 0.8]\n",
    "\n",
    "# Keep only necessary columns\n",
    "baits_gene = baits_gene[['Bait', 'PreyGene']]\n",
    "\n",
    "# Process data\n",
    "baits_gene['Bait'] = 'bait_' + baits_gene['Bait']\n",
    "baits_gene.replace({'PreyGene': codes['gene_symbol2id']}, inplace=True)\n",
    "baits_gene['PreyGene'] = pd.to_numeric(baits_gene['PreyGene'], errors='coerce')\n",
    "baits_gene.dropna(inplace=True)\n",
    "baits_gene['PreyGene'] = 'gene_' + baits_gene['PreyGene'].astype(int).astype('string')\n",
    "\n",
    "baits_gene.head()"
   ]
  },
  {
   "cell_type": "markdown",
   "metadata": {},
   "source": [
    "## Biological pathways"
   ]
  },
  {
   "cell_type": "markdown",
   "metadata": {},
   "source": [
    "Load KEGG Pathways"
   ]
  },
  {
   "cell_type": "code",
   "execution_count": 7,
   "metadata": {},
   "outputs": [
    {
     "data": {
      "text/html": [
       "<div>\n",
       "<style scoped>\n",
       "    .dataframe tbody tr th:only-of-type {\n",
       "        vertical-align: middle;\n",
       "    }\n",
       "\n",
       "    .dataframe tbody tr th {\n",
       "        vertical-align: top;\n",
       "    }\n",
       "\n",
       "    .dataframe thead th {\n",
       "        text-align: right;\n",
       "    }\n",
       "</style>\n",
       "<table border=\"1\" class=\"dataframe\">\n",
       "  <thead>\n",
       "    <tr style=\"text-align: right;\">\n",
       "      <th></th>\n",
       "      <th>gene1</th>\n",
       "      <th>gene2</th>\n",
       "    </tr>\n",
       "  </thead>\n",
       "  <tbody>\n",
       "    <tr>\n",
       "      <th>0</th>\n",
       "      <td>10725</td>\n",
       "      <td>TNF</td>\n",
       "    </tr>\n",
       "    <tr>\n",
       "      <th>1</th>\n",
       "      <td>10725</td>\n",
       "      <td>CSF2</td>\n",
       "    </tr>\n",
       "    <tr>\n",
       "      <th>2</th>\n",
       "      <td>NFATC1</td>\n",
       "      <td>TNF</td>\n",
       "    </tr>\n",
       "    <tr>\n",
       "      <th>3</th>\n",
       "      <td>NFATC1</td>\n",
       "      <td>CSF2</td>\n",
       "    </tr>\n",
       "    <tr>\n",
       "      <th>4</th>\n",
       "      <td>NFATC2</td>\n",
       "      <td>TNF</td>\n",
       "    </tr>\n",
       "  </tbody>\n",
       "</table>\n",
       "</div>"
      ],
      "text/plain": [
       "    gene1 gene2\n",
       "0   10725   TNF\n",
       "1   10725  CSF2\n",
       "2  NFATC1   TNF\n",
       "3  NFATC1  CSF2\n",
       "4  NFATC2   TNF"
      ]
     },
     "execution_count": 7,
     "metadata": {},
     "output_type": "execute_result"
    }
   ],
   "source": [
    "# Using KEGG pathway provided by author\n",
    "pathways_kegg=pd.read_csv(data_path+'biology-database/KegglinkevaluationPPPN_1', header=None,sep='\\t')\n",
    "pathways_kegg.columns=['gene1', 'gene2', 'label']\n",
    "\n",
    "# keep only PP labelled\n",
    "pathways_kegg = pathways_kegg[pathways_kegg['label']=='PP']\n",
    "pathways_kegg = pathways_kegg[['gene1', 'gene2']]\n",
    "\n",
    "# convert gene to symbol to stay consistent with the other datasets\n",
    "pathways_kegg.replace({\"gene1\": codes[\"gene_id2symbol\"], \"gene2\": codes[\"gene_id2symbol\"]}, inplace=True)\n",
    "pathways_kegg.dropna(inplace=True)\n",
    "\n",
    "pathways_kegg.head()"
   ]
  },
  {
   "cell_type": "markdown",
   "metadata": {},
   "source": [
    "Load CTD Pathways"
   ]
  },
  {
   "cell_type": "code",
   "execution_count": 8,
   "metadata": {},
   "outputs": [
    {
     "data": {
      "text/html": [
       "<div>\n",
       "<style scoped>\n",
       "    .dataframe tbody tr th:only-of-type {\n",
       "        vertical-align: middle;\n",
       "    }\n",
       "\n",
       "    .dataframe tbody tr th {\n",
       "        vertical-align: top;\n",
       "    }\n",
       "\n",
       "    .dataframe thead th {\n",
       "        text-align: right;\n",
       "    }\n",
       "</style>\n",
       "<table border=\"1\" class=\"dataframe\">\n",
       "  <thead>\n",
       "    <tr style=\"text-align: right;\">\n",
       "      <th></th>\n",
       "      <th>gene1</th>\n",
       "      <th>gene2</th>\n",
       "    </tr>\n",
       "  </thead>\n",
       "  <tbody>\n",
       "    <tr>\n",
       "      <th>0</th>\n",
       "      <td>ATP11A</td>\n",
       "      <td>BTK</td>\n",
       "    </tr>\n",
       "    <tr>\n",
       "      <th>1</th>\n",
       "      <td>ATP11A</td>\n",
       "      <td>CCL2</td>\n",
       "    </tr>\n",
       "    <tr>\n",
       "      <th>2</th>\n",
       "      <td>ATP11A</td>\n",
       "      <td>CCL3</td>\n",
       "    </tr>\n",
       "    <tr>\n",
       "      <th>3</th>\n",
       "      <td>ATP11A</td>\n",
       "      <td>CCR2</td>\n",
       "    </tr>\n",
       "    <tr>\n",
       "      <th>4</th>\n",
       "      <td>ATP11A</td>\n",
       "      <td>CD209</td>\n",
       "    </tr>\n",
       "  </tbody>\n",
       "</table>\n",
       "</div>"
      ],
      "text/plain": [
       "    gene1  gene2\n",
       "0  ATP11A    BTK\n",
       "1  ATP11A   CCL2\n",
       "2  ATP11A   CCL3\n",
       "3  ATP11A   CCR2\n",
       "4  ATP11A  CD209"
      ]
     },
     "execution_count": 8,
     "metadata": {},
     "output_type": "execute_result"
    }
   ],
   "source": [
    "pathways=pd.read_csv(data_path+'CTD/pathways.csv')\n",
    "pathways_ctd_temp = []\n",
    "for _, row in pathways.iterrows():\n",
    "    this_pathway = row[\"Association inferred via\"].split(\"|\")\n",
    "    pathway_combos = combinations(this_pathway, 2)\n",
    "    pathways_ctd_temp.extend(pathway_combos)\n",
    "\n",
    "pathways_ctd = pd.DataFrame(pathways_ctd_temp, columns=['gene1', 'gene2'])\n",
    "\n",
    "pathways_ctd.head()"
   ]
  },
  {
   "cell_type": "markdown",
   "metadata": {},
   "source": [
    "Load PHARMAGKB Pathways\n",
    "Pathways were obtained from https://www.pharmgkb.org/page/COVID, Section \"Pathways involving candidate genes/drugs\""
   ]
  },
  {
   "cell_type": "code",
   "execution_count": 9,
   "metadata": {},
   "outputs": [
    {
     "data": {
      "text/html": [
       "<div>\n",
       "<style scoped>\n",
       "    .dataframe tbody tr th:only-of-type {\n",
       "        vertical-align: middle;\n",
       "    }\n",
       "\n",
       "    .dataframe tbody tr th {\n",
       "        vertical-align: top;\n",
       "    }\n",
       "\n",
       "    .dataframe thead th {\n",
       "        text-align: right;\n",
       "    }\n",
       "</style>\n",
       "<table border=\"1\" class=\"dataframe\">\n",
       "  <thead>\n",
       "    <tr style=\"text-align: right;\">\n",
       "      <th></th>\n",
       "      <th>gene1</th>\n",
       "      <th>gene2</th>\n",
       "    </tr>\n",
       "  </thead>\n",
       "  <tbody>\n",
       "    <tr>\n",
       "      <th>0</th>\n",
       "      <td>ACE</td>\n",
       "      <td>ACE2</td>\n",
       "    </tr>\n",
       "    <tr>\n",
       "      <th>1</th>\n",
       "      <td>ACE</td>\n",
       "      <td>AGT</td>\n",
       "    </tr>\n",
       "    <tr>\n",
       "      <th>2</th>\n",
       "      <td>ACE</td>\n",
       "      <td>AGTR1</td>\n",
       "    </tr>\n",
       "    <tr>\n",
       "      <th>3</th>\n",
       "      <td>ACE</td>\n",
       "      <td>AGTR2</td>\n",
       "    </tr>\n",
       "    <tr>\n",
       "      <th>4</th>\n",
       "      <td>ACE</td>\n",
       "      <td>ATP6AP2</td>\n",
       "    </tr>\n",
       "  </tbody>\n",
       "</table>\n",
       "</div>"
      ],
      "text/plain": [
       "  gene1    gene2\n",
       "0   ACE     ACE2\n",
       "1   ACE      AGT\n",
       "2   ACE    AGTR1\n",
       "3   ACE    AGTR2\n",
       "4   ACE  ATP6AP2"
      ]
     },
     "execution_count": 9,
     "metadata": {},
     "output_type": "execute_result"
    }
   ],
   "source": [
    "pathways = {}\n",
    "pathways[\"ace\"] = [\"ACE\", \"ACE2\", \"AGT\", \"AGTR1\", \"AGTR2\", \"ATP6AP2\", \"BDKRB1\", \"BDKRB2\", \"CMA1\", \"CTSG\", \"CYP11B2\", \"KNG1\", \"MAPK1\", \"MAPK3\", \"MAS1\", \"MME\", \"NOS3\", \"NR3C2\", \"REN\", \"TGFB1\"]\n",
    "pathways[\"renin\"] = [\"ACE\", \"ACE2\", \"AGT\", \"AGTR1\", \"AGTR2\", \"ATP6AP2\", \"BDKRB1\", \"BDKRB2\", \"CMA1\", \"CTSG\", \"CYP11B2\", \"KNG1\", \"MAPK1\", \"MAPK3\", \"MAS1\", \"MME\", \"NOS3\", \"NR3C2\", \"REN\", \"TGFB1\"]\n",
    "pathways[\"losartan\"] = [\"AGTR1\", \"CYP2C9\", \"CYP3A4\", \"UGT1A1\", \"UGT2B7\"]\n",
    "pathways[\"antiarrhymtic\"] = [\"ABCC8\", \"ABCC9\", \"ADRA1D\", \"ADRA2A\", \"ADRB1\", \"ADRB2\", \"ANK2\", \"ATP1A1\", \"ATP2A1\", \"ATP2A2\", \"CACNA1C\", \"CACNA1D\", \"CACNA1G\", \"CACNA1H\", \"CACNB2\", \"CASQ1\", \"CASQ2\", \"CHRM2\", \"DSP\", \"FKBP1B\", \"GJA1\", \"GJA5\", \"GJD3\", \"HCN2\", \"HCN4\", \"JUP\", \"KCNA5\", \"KCNAB2\", \"KCND3\", \"KCNE1\", \"KCNE2\", \"KCNE3\", \"KCNE4\", \"KCNE5\", \"KCNH2\", \"KCNIP2\", \"KCNJ11\", \"KCNJ2\", \"KCNJ3\", \"KCNJ4\", \"KCNJ5\", \"KCNJ8\", \"KCNK1\", \"KCNK3\", \"KCNQ1\", \"LMNA\", \"PLN\", \"RYR2\", \"SCN1B\", \"SCN2B\", \"SCN3B\", \"SCN4B\", \"SCN5A\", \"SLC8A2\", \"SLC8A3\"]\n",
    "pathways[\"fluvoxamine\"] = [\"ADH1A\", \"ADH1B\", \"ADH1C\", \"CYP1A2\", \"CYP2C19\", \"CYP2D6\", \"CYP3A\"]\n",
    "\n",
    "pathways_pgkb_temp = []\n",
    "for pathway_name in pathways.keys():\n",
    "    this_pathway_combo = combinations(pathways[pathway_name],2)\n",
    "    pathways_pgkb_temp.extend(this_pathway_combo)\n",
    "\n",
    "pathways_pgkb = pd.DataFrame(pathways_pgkb_temp, columns=['gene1', 'gene2'])\n",
    "\n",
    "pathways_pgkb.head()"
   ]
  },
  {
   "cell_type": "markdown",
   "metadata": {},
   "source": [
    "Combine all pathways from CTD, KEGG, PHARMKGB"
   ]
  },
  {
   "cell_type": "code",
   "execution_count": 10,
   "metadata": {},
   "outputs": [
    {
     "data": {
      "text/html": [
       "<div>\n",
       "<style scoped>\n",
       "    .dataframe tbody tr th:only-of-type {\n",
       "        vertical-align: middle;\n",
       "    }\n",
       "\n",
       "    .dataframe tbody tr th {\n",
       "        vertical-align: top;\n",
       "    }\n",
       "\n",
       "    .dataframe thead th {\n",
       "        text-align: right;\n",
       "    }\n",
       "</style>\n",
       "<table border=\"1\" class=\"dataframe\">\n",
       "  <thead>\n",
       "    <tr style=\"text-align: right;\">\n",
       "      <th></th>\n",
       "      <th>gene1</th>\n",
       "      <th>gene2</th>\n",
       "    </tr>\n",
       "  </thead>\n",
       "  <tbody>\n",
       "    <tr>\n",
       "      <th>0</th>\n",
       "      <td>gene_23250</td>\n",
       "      <td>gene_695</td>\n",
       "    </tr>\n",
       "    <tr>\n",
       "      <th>1</th>\n",
       "      <td>gene_23250</td>\n",
       "      <td>gene_6347</td>\n",
       "    </tr>\n",
       "    <tr>\n",
       "      <th>2</th>\n",
       "      <td>gene_23250</td>\n",
       "      <td>gene_6348</td>\n",
       "    </tr>\n",
       "    <tr>\n",
       "      <th>3</th>\n",
       "      <td>gene_23250</td>\n",
       "      <td>gene_729230</td>\n",
       "    </tr>\n",
       "    <tr>\n",
       "      <th>4</th>\n",
       "      <td>gene_23250</td>\n",
       "      <td>gene_30835</td>\n",
       "    </tr>\n",
       "  </tbody>\n",
       "</table>\n",
       "</div>"
      ],
      "text/plain": [
       "        gene1        gene2\n",
       "0  gene_23250     gene_695\n",
       "1  gene_23250    gene_6347\n",
       "2  gene_23250    gene_6348\n",
       "3  gene_23250  gene_729230\n",
       "4  gene_23250   gene_30835"
      ]
     },
     "execution_count": 10,
     "metadata": {},
     "output_type": "execute_result"
    }
   ],
   "source": [
    "all_pathways = pd.concat([pathways_ctd, pathways_kegg, pathways_pgkb])\n",
    "\n",
    "# symbol to id\n",
    "all_pathways.replace({'gene1': codes['gene_symbol2id'], 'gene2': codes['gene_symbol2id']}, inplace=True)\n",
    "all_pathways['gene1'] = pd.to_numeric(all_pathways['gene1'], errors='coerce')\n",
    "all_pathways['gene2'] = pd.to_numeric(all_pathways['gene2'], errors='coerce')\n",
    "all_pathways.dropna(inplace=True)\n",
    "all_pathways['gene1'] = \"gene_\" + all_pathways['gene1'].astype(int).astype(\"string\")\n",
    "all_pathways['gene2'] = 'gene_' + all_pathways['gene2'].astype(int).astype(\"string\")\n",
    "all_pathways.drop_duplicates(inplace=True)\n",
    "\n",
    "all_pathways.head()"
   ]
  },
  {
   "cell_type": "markdown",
   "metadata": {},
   "source": [
    "## Gene/drug-phenotype interactions "
   ]
  },
  {
   "cell_type": "code",
   "execution_count": 11,
   "metadata": {},
   "outputs": [],
   "source": [
    "# Load phenotype\n",
    "phenotypes=pd.read_csv(data_path+'CTD/phenotype.csv')\n",
    "phenotypes = phenotypes[[\"Phenotype Term Name\", \"Phenotype Term ID\", \"Chemical Inference Network\", \"Gene Inference Network\"]] # only keep columns we're interested\n",
    "\n",
    "#store code\n",
    "codes['phenotype_id2name']={row['Phenotype Term ID']:row['Phenotype Term Name'] for _, row in phenotypes[['Phenotype Term ID','Phenotype Term Name']].drop_duplicates().iterrows()}"
   ]
  },
  {
   "cell_type": "markdown",
   "metadata": {},
   "source": [
    "Phenotype/Drug interactions"
   ]
  },
  {
   "cell_type": "code",
   "execution_count": 12,
   "metadata": {},
   "outputs": [
    {
     "data": {
      "text/html": [
       "<div>\n",
       "<style scoped>\n",
       "    .dataframe tbody tr th:only-of-type {\n",
       "        vertical-align: middle;\n",
       "    }\n",
       "\n",
       "    .dataframe tbody tr th {\n",
       "        vertical-align: top;\n",
       "    }\n",
       "\n",
       "    .dataframe thead th {\n",
       "        text-align: right;\n",
       "    }\n",
       "</style>\n",
       "<table border=\"1\" class=\"dataframe\">\n",
       "  <thead>\n",
       "    <tr style=\"text-align: right;\">\n",
       "      <th></th>\n",
       "      <th>Phenotype ID</th>\n",
       "      <th>drug</th>\n",
       "    </tr>\n",
       "  </thead>\n",
       "  <tbody>\n",
       "    <tr>\n",
       "      <th>0</th>\n",
       "      <td>phenotype_GO:0008283</td>\n",
       "      <td>drug_AZITHROMYCIN</td>\n",
       "    </tr>\n",
       "    <tr>\n",
       "      <th>0</th>\n",
       "      <td>phenotype_GO:0008283</td>\n",
       "      <td>drug_BETULINIC ACID</td>\n",
       "    </tr>\n",
       "    <tr>\n",
       "      <th>0</th>\n",
       "      <td>phenotype_GO:0008283</td>\n",
       "      <td>drug_CAMOSTAT</td>\n",
       "    </tr>\n",
       "    <tr>\n",
       "      <th>0</th>\n",
       "      <td>phenotype_GO:0008283</td>\n",
       "      <td>drug_CEPHARANTHINE</td>\n",
       "    </tr>\n",
       "    <tr>\n",
       "      <th>0</th>\n",
       "      <td>phenotype_GO:0008283</td>\n",
       "      <td>drug_CHLOROQUINE</td>\n",
       "    </tr>\n",
       "    <tr>\n",
       "      <th>...</th>\n",
       "      <td>...</td>\n",
       "      <td>...</td>\n",
       "    </tr>\n",
       "    <tr>\n",
       "      <th>367</th>\n",
       "      <td>phenotype_GO:0007611</td>\n",
       "      <td>drug_ZINC</td>\n",
       "    </tr>\n",
       "    <tr>\n",
       "      <th>368</th>\n",
       "      <td>phenotype_GO:0046960</td>\n",
       "      <td>drug_NIFEDIPINE</td>\n",
       "    </tr>\n",
       "    <tr>\n",
       "      <th>369</th>\n",
       "      <td>phenotype_GO:0050996</td>\n",
       "      <td>drug_CHOLINE</td>\n",
       "    </tr>\n",
       "    <tr>\n",
       "      <th>370</th>\n",
       "      <td>phenotype_GO:0035702</td>\n",
       "      <td>drug_ACTIVE HEXOSE CORRELATED COMPOUND</td>\n",
       "    </tr>\n",
       "    <tr>\n",
       "      <th>371</th>\n",
       "      <td>phenotype_GO:0032693</td>\n",
       "      <td>drug_LOSARTAN</td>\n",
       "    </tr>\n",
       "  </tbody>\n",
       "</table>\n",
       "<p>410 rows × 2 columns</p>\n",
       "</div>"
      ],
      "text/plain": [
       "             Phenotype ID                                    drug\n",
       "0    phenotype_GO:0008283                       drug_AZITHROMYCIN\n",
       "0    phenotype_GO:0008283                     drug_BETULINIC ACID\n",
       "0    phenotype_GO:0008283                           drug_CAMOSTAT\n",
       "0    phenotype_GO:0008283                      drug_CEPHARANTHINE\n",
       "0    phenotype_GO:0008283                        drug_CHLOROQUINE\n",
       "..                    ...                                     ...\n",
       "367  phenotype_GO:0007611                               drug_ZINC\n",
       "368  phenotype_GO:0046960                         drug_NIFEDIPINE\n",
       "369  phenotype_GO:0050996                            drug_CHOLINE\n",
       "370  phenotype_GO:0035702  drug_ACTIVE HEXOSE CORRELATED COMPOUND\n",
       "371  phenotype_GO:0032693                           drug_LOSARTAN\n",
       "\n",
       "[410 rows x 2 columns]"
      ]
     },
     "execution_count": 12,
     "metadata": {},
     "output_type": "execute_result"
    }
   ],
   "source": [
    "phenotypes['Chemical Inference Network'] = phenotypes['Chemical Inference Network'].str.split('|')\n",
    "phenotypes_drugs = phenotypes.explode('Chemical Inference Network')\n",
    "phenotypes_drugs['Chemical Inference Network'] = phenotypes_drugs['Chemical Inference Network'].str.upper()\n",
    "\n",
    "phenotypes_drugs.dropna(inplace=True)\n",
    "phenotypes_drugs['Phenotype ID'] = \"phenotype_\" + phenotypes_drugs['Phenotype Term ID'].astype(\"string\")\n",
    "phenotypes_drugs['drug'] = \"drug_\" + phenotypes_drugs['Chemical Inference Network']\n",
    "phenotypes_drugs = phenotypes_drugs[['Phenotype ID', 'drug']]\n",
    "\n",
    "phenotypes_drugs"
   ]
  },
  {
   "cell_type": "markdown",
   "metadata": {},
   "source": [
    "Phenotype/gene interaction"
   ]
  },
  {
   "cell_type": "code",
   "execution_count": 13,
   "metadata": {},
   "outputs": [
    {
     "data": {
      "text/html": [
       "<div>\n",
       "<style scoped>\n",
       "    .dataframe tbody tr th:only-of-type {\n",
       "        vertical-align: middle;\n",
       "    }\n",
       "\n",
       "    .dataframe tbody tr th {\n",
       "        vertical-align: top;\n",
       "    }\n",
       "\n",
       "    .dataframe thead th {\n",
       "        text-align: right;\n",
       "    }\n",
       "</style>\n",
       "<table border=\"1\" class=\"dataframe\">\n",
       "  <thead>\n",
       "    <tr style=\"text-align: right;\">\n",
       "      <th></th>\n",
       "      <th>Phenotype ID</th>\n",
       "      <th>gene</th>\n",
       "    </tr>\n",
       "  </thead>\n",
       "  <tbody>\n",
       "    <tr>\n",
       "      <th>0</th>\n",
       "      <td>phenotype_GO:0008283</td>\n",
       "      <td>gene_183</td>\n",
       "    </tr>\n",
       "    <tr>\n",
       "      <th>0</th>\n",
       "      <td>phenotype_GO:0008283</td>\n",
       "      <td>gene_7297</td>\n",
       "    </tr>\n",
       "    <tr>\n",
       "      <th>1</th>\n",
       "      <td>phenotype_GO:0006915</td>\n",
       "      <td>gene_695</td>\n",
       "    </tr>\n",
       "    <tr>\n",
       "      <th>1</th>\n",
       "      <td>phenotype_GO:0006915</td>\n",
       "      <td>gene_3553</td>\n",
       "    </tr>\n",
       "    <tr>\n",
       "      <th>1</th>\n",
       "      <td>phenotype_GO:0006915</td>\n",
       "      <td>gene_3559</td>\n",
       "    </tr>\n",
       "    <tr>\n",
       "      <th>...</th>\n",
       "      <td>...</td>\n",
       "      <td>...</td>\n",
       "    </tr>\n",
       "    <tr>\n",
       "      <th>367</th>\n",
       "      <td>phenotype_GO:0007611</td>\n",
       "      <td>gene_3553</td>\n",
       "    </tr>\n",
       "    <tr>\n",
       "      <th>368</th>\n",
       "      <td>phenotype_GO:0046960</td>\n",
       "      <td>gene_695</td>\n",
       "    </tr>\n",
       "    <tr>\n",
       "      <th>369</th>\n",
       "      <td>phenotype_GO:0050996</td>\n",
       "      <td>gene_3553</td>\n",
       "    </tr>\n",
       "    <tr>\n",
       "      <th>370</th>\n",
       "      <td>phenotype_GO:0035702</td>\n",
       "      <td>gene_6347</td>\n",
       "    </tr>\n",
       "    <tr>\n",
       "      <th>371</th>\n",
       "      <td>phenotype_GO:0032693</td>\n",
       "      <td>gene_695</td>\n",
       "    </tr>\n",
       "  </tbody>\n",
       "</table>\n",
       "<p>325 rows × 2 columns</p>\n",
       "</div>"
      ],
      "text/plain": [
       "             Phenotype ID       gene\n",
       "0    phenotype_GO:0008283   gene_183\n",
       "0    phenotype_GO:0008283  gene_7297\n",
       "1    phenotype_GO:0006915   gene_695\n",
       "1    phenotype_GO:0006915  gene_3553\n",
       "1    phenotype_GO:0006915  gene_3559\n",
       "..                    ...        ...\n",
       "367  phenotype_GO:0007611  gene_3553\n",
       "368  phenotype_GO:0046960   gene_695\n",
       "369  phenotype_GO:0050996  gene_3553\n",
       "370  phenotype_GO:0035702  gene_6347\n",
       "371  phenotype_GO:0032693   gene_695\n",
       "\n",
       "[325 rows x 2 columns]"
      ]
     },
     "execution_count": 13,
     "metadata": {},
     "output_type": "execute_result"
    }
   ],
   "source": [
    "phenotypes['gene'] = phenotypes['Gene Inference Network'].str.split('|')\n",
    "phenotypes_genes = phenotypes.explode('gene')\n",
    "phenotypes_genes.replace({'gene': codes[\"gene_symbol2id\"]}, inplace=True)\n",
    "phenotypes_genes.dropna(inplace=True)\n",
    "\n",
    "phenotypes_genes['Phenotype ID'] = \"phenotype_\" + phenotypes_genes['Phenotype Term ID'].astype(\"string\")\n",
    "phenotypes_genes['gene'] = \"gene_\" + phenotypes_genes['gene'].astype(int).astype(\"string\")\n",
    "phenotypes_genes = phenotypes_genes[['Phenotype ID', 'gene']]\n",
    "phenotypes_genes"
   ]
  },
  {
   "cell_type": "markdown",
   "metadata": {},
   "source": [
    "## Map all gene/drug/phenotype/baits"
   ]
  },
  {
   "cell_type": "code",
   "execution_count": 14,
   "metadata": {},
   "outputs": [],
   "source": [
    "\n",
    "baits_gene.columns=['node1','node2']\n",
    "baits_gene['type']='bait-gene'\n",
    "\n",
    "gene_drug.columns=['node1', 'node2']\n",
    "gene_drug['type']='gene-drug'\n",
    "\n",
    "all_pathways.columns=['node1', 'node2']\n",
    "all_pathways['type']='gene-gene'\n",
    "\n",
    "phenotypes_genes.columns=['node1', 'node2']\n",
    "phenotypes_genes['type']='phenotype-gene'\n",
    "\n",
    "phenotypes_drugs.columns=['node1','node2']\n",
    "phenotypes_drugs['type']='phenotype-drug'\n",
    "\n",
    "edges = pd.concat([gene_drug, all_pathways, baits_gene, phenotypes_genes, phenotypes_drugs])"
   ]
  },
  {
   "cell_type": "code",
   "execution_count": 15,
   "metadata": {},
   "outputs": [],
   "source": [
    "# Create labeler\n",
    "le = LabelEncoder()\n",
    "le.fit(pd.concat([edges.node1, edges.node2]))\n",
    "\n",
    "# convert the strings to labels \n",
    "edges.node1 = le.transform(edges.node1)\n",
    "edges.node2 = le.transform(edges.node2)"
   ]
  },
  {
   "cell_type": "markdown",
   "metadata": {},
   "source": [
    "## Embed DRKG"
   ]
  },
  {
   "cell_type": "markdown",
   "metadata": {},
   "source": [
    "Get [DRKG](https://github.com/gnn4dr/DRKG)"
   ]
  },
  {
   "cell_type": "code",
   "execution_count": 16,
   "metadata": {},
   "outputs": [],
   "source": [
    "# get dataset from https://dgl-data.s3-us-west-2.amazonaws.com/dataset/DRKG/drkg.tar.gz\n",
    "# Place downloaded /embed folder in ./data/DRKG folder\n",
    "\n",
    "#Load DRKG files \n",
    "drkg = np.load(data_path + 'DRKG/embed/DRKG_TransE_l2_entity.npy')\n",
    "drkg_shape = drkg.shape[1]\n",
    "entity_df = pd.read_csv(data_path + 'DRKG/embed/entities.tsv', sep='\\t', names=['value', 'id'])\n",
    "relation_df = pd.read_csv(data_path + 'DRKG/embed/relations.tsv', sep='\\t', names=['value', 'id'])\n",
    "\n",
    "# Determine language used by DRKG\n",
    "entity_df[\"node_type\"] = entity_df.value.str.split(\"::\")\n",
    "entity_df.node_type = entity_df.node_type.str[0]\n",
    "entity_df.node_type.unique()\n",
    "\n",
    "# Create mapping for DRKG entity and relation\n",
    "entity_val2id = {}\n",
    "relation_val2id = {}\n",
    "drugbank = {}\n",
    "\n",
    "for _, row in entity_df.iterrows():\n",
    "    entity_val2id[row['value']] = row['id']\n",
    "    \n",
    "for _, row in relation_df.iterrows():\n",
    "    relation_val2id[row['value']] = row['id']\n",
    "\n",
    "# Create drkg drug mapping\n",
    "alldrugbank = pd.read_csv(data_path + 'CTD/alldrugbank.csv', index_col=0).rename(columns={'drugbank_id':'id'})\n",
    "nondrugbank = pd.read_csv(data_path + 'CTD/nondrugbank.csv', index_col=0).rename(columns={'chembl':'id'})\n",
    "drugbank_df = pd.concat([alldrugbank, nondrugbank])\n",
    "\n",
    "drugbank_df.drop_duplicates('id', keep='first', inplace=True)\n",
    "for _, row in drugbank_df.iterrows():\n",
    "    drugbank[row['drugname']] = row['id']"
   ]
  },
  {
   "cell_type": "markdown",
   "metadata": {},
   "source": [
    "Write our processed graph in DRKG's format"
   ]
  },
  {
   "cell_type": "code",
   "execution_count": 17,
   "metadata": {},
   "outputs": [],
   "source": [
    "gene_drkg = []\n",
    "phenotype_drkg = []\n",
    "bait_drkg = []\n",
    "drug_drkg = []\n",
    "\n",
    "for this_class in le.classes_:\n",
    "    class_items = this_class.split('_')\n",
    "    class_type = class_items[0]\n",
    "    class_val = class_items[1]\n",
    "    if class_type == 'gene':\n",
    "        gene_drkg.append('Gene::' + class_val)\n",
    "    elif class_type == 'phenotype':\n",
    "        phenotype_drkg.append('Biological Process::' + class_val)\n",
    "    elif class_type == 'bait':\n",
    "        bait_drkg.append('Disease::' + class_val)\n",
    "    elif class_type == 'drug':\n",
    "        drug_drkg.append('Compound::'+drugbank.get(class_val, ''))"
   ]
  },
  {
   "cell_type": "markdown",
   "metadata": {},
   "source": [
    "Map own data to DRKG"
   ]
  },
  {
   "cell_type": "code",
   "execution_count": 19,
   "metadata": {
    "scrolled": true
   },
   "outputs": [],
   "source": [
    "# handle the ID mapping - from original author's code\n",
    "bait_ids = []\n",
    "gene_ids = []\n",
    "drug_ids = []\n",
    "phenotype_ids = []\n",
    "\n",
    "    \n",
    "for bait in bait_drkg:\n",
    "    bait_ids.append(entity_val2id.get(bait))\n",
    "\n",
    "for gene in gene_drkg:\n",
    "    gene_ids.append(entity_val2id.get(gene))\n",
    "    \n",
    "for drug in drug_drkg:\n",
    "    drug_ids.append(entity_val2id.get(drug))\n",
    "    \n",
    "for phenotype in phenotype_drkg:\n",
    "    phenotype_ids.append(entity_val2id.get(phenotype))\n",
    "\n",
    "bait_emb=np.array([drkg[bait_id] if bait_id is not None else np.zeros(drkg_shape) for bait_id in bait_ids ])\n",
    "drug_emb=np.array([drkg[drug_id] if drug_id is not None else np.zeros(drkg_shape) for drug_id in drug_ids ])\n",
    "gene_emb=np.array([drkg[gene_id] if gene_id is not None else np.zeros(drkg_shape) for gene_id in gene_ids ])\n",
    "phenotype_emb=np.array([drkg[phenotype_id] if phenotype_id is not None else np.zeros(drkg_shape) for phenotype_id in phenotype_ids ])\n",
    "\n",
    "# Generate node features\n",
    "node_features=np.concatenate((bait_emb, drug_emb, gene_emb, phenotype_emb))"
   ]
  },
  {
   "cell_type": "markdown",
   "metadata": {},
   "source": [
    "## Save as pickle"
   ]
  },
  {
   "cell_type": "code",
   "execution_count": 20,
   "metadata": {},
   "outputs": [],
   "source": [
    "edges.to_pickle(data_path+'edge_index_'+exp_id+'.pkl')\n",
    "pickle.dump(le, open(data_path+'LabelEncoder_'+exp_id+'.pkl','wb'))\n",
    "pickle.dump(node_features, open(data_path+'node_feature_'+exp_id+'.pkl', 'wb'))\n",
    "pickle.dump(codes, open(data_path+'codes_'+exp_id+'.pkl','wb'))"
   ]
  }
 ],
 "metadata": {
  "kernelspec": {
   "display_name": "Python 3",
   "language": "python",
   "name": "python3"
  },
  "language_info": {
   "codemirror_mode": {
    "name": "ipython",
    "version": 3
   },
   "file_extension": ".py",
   "mimetype": "text/x-python",
   "name": "python",
   "nbconvert_exporter": "python",
   "pygments_lexer": "ipython3",
   "version": "3.9.13"
  }
 },
 "nbformat": 4,
 "nbformat_minor": 2
}
